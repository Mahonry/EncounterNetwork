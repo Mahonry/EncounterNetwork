{
 "cells": [
  {
   "cell_type": "code",
   "execution_count": 1,
   "metadata": {},
   "outputs": [],
   "source": [
    "from linkedin_api import Linkedin\n",
    "import numpy as np\n",
    "from bs4 import BeautifulSoup\n",
    "import requests\n",
    "import pandas as pd\n",
    "import glob\n",
    "import json\n",
    "import uuid\n",
    "import random\n",
    "from faker import Faker\n",
    "import networkx as nx\n",
    "import itertools\n",
    "import time\n",
    "from networkx.algorithms import bipartite\n",
    "import unicodedata\n",
    "from dateutil.relativedelta import relativedelta\n",
    "import matplotlib.pyplot as plt\n",
    "import matplotlib\n",
    "import warnings\n",
    "warnings.filterwarnings(\"ignore\")"
   ]
  },
  {
   "cell_type": "code",
   "execution_count": 2,
   "metadata": {},
   "outputs": [],
   "source": [
    "def add_edge(graph,df,period,columns,period_column):\n",
    "    \n",
    "    df = df[df[str(period_column)] == period][columns]\n",
    "    df.drop(str(period_column), axis = 1, inplace = True)\n",
    "    \n",
    "    for edge in df.to_records(index=False):\n",
    "        graph.add_edge(*edge)\n",
    "        \n",
    "    return graph\n",
    "\n",
    "def define_graph_period(period, nodes, df,columns, period_colum = 'year'):\n",
    "    _period = nx.Graph()\n",
    "    for node in nodes:\n",
    "        _period.add_node(node)\n",
    "    _period = add_edge(_period, df, period,columns, period_colum)\n",
    "    return _period\n",
    "\n",
    "def proyection_bipartite(graph, year, list_,partition):\n",
    "    _temp = bipartite.projected_graph(graph,partition)\n",
    "    add  = (_temp,year)\n",
    "    list_.append(add)\n",
    "    return list_     "
   ]
  },
  {
   "cell_type": "code",
   "execution_count": null,
   "metadata": {},
   "outputs": [],
   "source": [
    "def random_walk_list(data_random_walk):\n",
    "    #Instanciamos RandomsWords\n",
    "    from wonderwords import RandomWord\n",
    "    rw = RandomWord()\n",
    "    \n",
    "    #Leemos resultados de la simulacion\n",
    "    random_walk =  pd.read_csv(data_random_walk)\n",
    "    \n",
    "    #Numero de nodos\n",
    "    N_people = len(np.unique(random_walk.Rw))\n",
    "    N_companys = len(np.unique(random_walk.N_visited))\n",
    "    N_nodos = len(np.append(np.unique(random_walk.Rw),np.unique(random_walk.N_visited) ))\n",
    "    \n",
    "    #Creamos listas con palabras\n",
    "    Words = pd.DataFrame(rw.random_words(N_nodos))\n",
    "    \n",
    "    #Mapamos \n",
    "    D_people = Words[0].iloc[:N_people]\n",
    "    D_company = Words[0].iloc[N_people:].reset_index(drop = True)\n",
    "    \n",
    "    D_people = {key:value for key,value in D_people.items()}\n",
    "    D_company = {random_walk.N_visited.sort_values().unique()[i]:D_company.sort_values().unique()[i] for i in range(N_companys)}\n",
    "    \n",
    "    random_walk.Rw = random_walk.Rw.map(D_people)\n",
    "    random_walk.N_visited = random_walk.N_visited.map(D_company)\n",
    "    \n",
    "    #Definimos Graph\n",
    "    graph = random_walk\n",
    "    \n",
    "    companys = graph.N_visited.unique()\n",
    "    people = graph.Rw.unique()\n",
    "    \n",
    "    #Creamos los nodos\n",
    "    nodes = np.append(np.unique(random_walk.Rw.astype(str)),np.unique(random_walk.N_visited.astype(str)) )\n",
    "    \n",
    "    #Creamos los grafos\n",
    "    columns = ['t','Rw','N_visited']\n",
    "    years = []\n",
    "    graphs_list_Rw = []\n",
    "    for peri-od in np.sort(graph.t.unique()):\n",
    "        _temp = define_graph_period(period,nodes,graph,columns, period_colum = 't')\n",
    "        _period = str(period)\n",
    "        years.append(period)\n",
    "        add = (_temp,_period)\n",
    "        graphs_list_Rw.append(add)\n",
    "        \n",
    "    return graphs_list_Rw, companys, people, years,graph\n",
    "\n",
    "def bipartite_list(list_, projector):\n",
    "    graphs_list_month_Rw = []\n",
    "    for graph, year in list_:\n",
    "        proyection_bipartite(graph, year, graphs_list_month_Rw,projector)\n",
    "    return graphs_list_month_Rw\n",
    "\n",
    "def k_average(graph_list):\n",
    "    return [pd.DataFrame(nx.degree(value)).mean().values for value,key in graph_list]\n",
    "\n",
    "def C_average(graph_list):\n",
    "    return [np.array(list(nx.clustering(value).values())).mean() for value,key in graph_list]\n",
    "\n",
    "def second_criteria(graphs_list_Rw):\n",
    "    #Segundo Criterio\n",
    "    for i in range(len(graphs_list_Rw)-1):\n",
    "        for edge in graphs_list_Rw[i][0].edges():\n",
    "            graphs_list_Rw[i+1][0].add_edge(*edge)\n",
    "    return graphs_list_Rw"
   ]
  },
  {
   "cell_type": "markdown",
   "metadata": {},
   "source": [
    "# Consolidar una sola base de pefiles"
   ]
  },
  {
   "cell_type": "code",
   "execution_count": null,
   "metadata": {},
   "outputs": [],
   "source": [
    "DF = pd.DataFrame()\n",
    "for perfil in glob.glob('./Perfiles/*'):\n",
    "    df = pd.read_csv(perfil)\n",
    "    print(str(perfil) + \"  \" + str(len(df)))\n",
    "    DF = pd.concat([DF,df])"
   ]
  },
  {
   "cell_type": "code",
   "execution_count": null,
   "metadata": {},
   "outputs": [],
   "source": [
    "DF.drop(['notes', 'email',\n",
    "       'phoneNumber', 'address', 'twitter1', 'twitter2', 'im1', 'im2', 'im3',\n",
    "       'website1', 'website2', 'website3'], axis = 1, inplace = True)"
   ]
  },
  {
   "cell_type": "code",
   "execution_count": null,
   "metadata": {},
   "outputs": [],
   "source": [
    "DF = DF.groupby('id').first().reset_index()*"
   ]
  },
  {
   "cell_type": "markdown",
   "metadata": {},
   "source": [
    "# Creamos indice unico"
   ]
  },
  {
   "cell_type": "code",
   "execution_count": null,
   "metadata": {},
   "outputs": [],
   "source": [
    "Faker.seed(0)"
   ]
  },
  {
   "cell_type": "code",
   "execution_count": null,
   "metadata": {},
   "outputs": [],
   "source": [
    "DF['uuid'] = DF.apply(lambda _: Faker().uuid4()[:8], axis=1)"
   ]
  },
  {
   "cell_type": "code",
   "execution_count": null,
   "metadata": {},
   "outputs": [],
   "source": [
    "DF.to_excel(\"Consolidado_perfiles.xlsx\",index = False)"
   ]
  },
  {
   "cell_type": "markdown",
   "metadata": {},
   "source": [
    "# Buscamos sus perfiles de Linkedin"
   ]
  },
  {
   "cell_type": "code",
   "execution_count": 94,
   "metadata": {},
   "outputs": [],
   "source": [
    "DF = pd.read_excel(\"Consolidado_perfiles.xlsx\")"
   ]
  },
  {
   "cell_type": "code",
   "execution_count": null,
   "metadata": {},
   "outputs": [],
   "source": [
    "DF = DF[DF.index >=453]"
   ]
  },
  {
   "cell_type": "code",
   "execution_count": null,
   "metadata": {},
   "outputs": [],
   "source": [
    "#Leemos las credenciales\n",
    "with open('Requests.txt') as f:\n",
    "    lines = f.readlines()"
   ]
  },
  {
   "cell_type": "code",
   "execution_count": null,
   "metadata": {},
   "outputs": [],
   "source": [
    "# Authenticate using any Linkedin account credentials\n",
    "api = Linkedin(lines[0][:-1], lines[1])"
   ]
  },
  {
   "cell_type": "code",
   "execution_count": null,
   "metadata": {},
   "outputs": [],
   "source": [
    "for index,row in DF.iterrows():\n",
    "    print(row.id,\"   \",row['Unnamed: 0'])\n",
    "    #GET a profile\n",
    "    #time.sleep(20)\n",
    "    dic = api.get_profile(row.id)['experience']\n",
    "    \n",
    "    if isinstance(dic, dict):\n",
    "        dic['uuid'] = row.uuid\n",
    "        with open('./Dic_perfiles' + '/' + str(row.id) +  '.json', 'w', encoding='utf-8') as f:\n",
    "            json.dump(experience, f)\n",
    "        \n",
    "    else:\n",
    "        contador = 0\n",
    "        for experience in dic:\n",
    "            experience['uuid'] = row.uuid\n",
    "            with open('./Dic_perfiles' + '/' + str(row.id) + '_' + str(contador) + '.json', 'w', encoding='utf-8') as f:\n",
    "                json.dump(experience, f)\n",
    "            contador+=1"
   ]
  },
  {
   "cell_type": "markdown",
   "metadata": {},
   "source": [
    "# Obtenemos informacion de empresas de los json"
   ]
  },
  {
   "cell_type": "code",
   "execution_count": 95,
   "metadata": {},
   "outputs": [],
   "source": [
    "companys = []\n",
    "time_periods_start = []\n",
    "time_periods_end = []\n",
    "uuid = []\n",
    "locationName = []\n",
    "industries = []\n",
    "for work in glob.glob('./Dic_perfiles/*.json'):\n",
    "    with open(work, encoding='utf-8') as json_file:\n",
    "        dicts = json.load(json_file)\n",
    "        \n",
    "        companys.append(dicts['companyName'])\n",
    "\n",
    "        uuid.append(dicts['uuid'])\n",
    "        \n",
    "        try:\n",
    "            time_periods_start.append(dicts['timePeriod']['startDate'])\n",
    "        except:\n",
    "            time_periods_start.append(np.nan)\n",
    "        \n",
    "        try:\n",
    "            locationName.append(dicts['locationName'])\n",
    "        except:\n",
    "            locationName.append(np.nan)\n",
    "        try:\n",
    "            time_periods_end.append(dicts['timePeriod']['endDate'])\n",
    "        except:\n",
    "            time_periods_end.append(np.nan)\n",
    "        try:\n",
    "            industries.append(dicts['company']['industries'])\n",
    "        except:\n",
    "            industries.append(np.nan)"
   ]
  },
  {
   "cell_type": "code",
   "execution_count": 96,
   "metadata": {},
   "outputs": [
    {
     "name": "stdout",
     "output_type": "stream",
     "text": [
      "2253\n",
      "2253\n",
      "2253\n",
      "2253\n",
      "2253\n",
      "2253\n"
     ]
    }
   ],
   "source": [
    "#Verficamos el tamaño de todas las listas\n",
    "print(len(companys))\n",
    "print(len(time_periods_start))\n",
    "print(len(time_periods_end))\n",
    "print(len(uuid))\n",
    "print(len(locationName))\n",
    "print(len(industries))"
   ]
  },
  {
   "cell_type": "code",
   "execution_count": 97,
   "metadata": {},
   "outputs": [],
   "source": [
    "works = pd.DataFrame({'companys':companys,\n",
    "                  'StartPeriod':time_periods_start,\n",
    "                  'EndPeriod':time_periods_end,\n",
    "                  'uuid':uuid,\n",
    "                  'Location':locationName,\n",
    "                  'Industries':industries})"
   ]
  },
  {
   "cell_type": "code",
   "execution_count": 98,
   "metadata": {},
   "outputs": [],
   "source": [
    "#remplamos mismos empresas\n",
    "works.companys = works.companys.replace({\n",
    "    \"Nestle S.A.\":\"Nestle\",\n",
    "    \"Dichter & Neira Research\":\"Dichter & Neira\",\n",
    "    \"Deloitte Brasil\":\"Deloitte\",\n",
    "    \"Deloitte México\":\"Deloitte\",\n",
    "    \"Credit Suisse Brasil\":\"Credit Suisse\",\n",
    "    \"Congreso Latinoamericano Tecnología y Negocios America Digital\":\"Latin America Digital Congress of Technology and Business\",\n",
    "    \"Congreso Latinoamericano Tecnología y Negocios America Digital 5 y 6 Sept 20\":\"Latin America Digital Congress of Technology and Business\",\n",
    "    \"Scotiabank Mexico\":\"Scotiabank\",\n",
    "    \"OYO  - Brasil\":\"OYO\",\n",
    "    \"OYO Brasil\":\"OYO\",\n",
    "    \"Self-employed\":\"Independiente\",\n",
    "    \"Profesional independiente\":\"Independiente\",\n",
    "    \"Autónomo\":\"Independiente\",\n",
    "    \"Profesional independiente\":\"Independiente\",\n",
    "    \"Independant\":\"Independiente\",\n",
    "    \"Mi propia empresa :)\":\"Independiente\",\n",
    "    \".\":\"Mi propia empresa :)\",\n",
    "    \"LG Electronics Brasil\":\"LG Electronics\",\n",
    "    \"BBVA en México\":\"BBVA\",\n",
    "    \"BBVA en Perú\":\"BBVA\",\n",
    "    \"KStore SPA - Kawke Project\":\"KStore - Kawke Project\",\n",
    "    \"Merama Wellness\":\"Merama\",\n",
    "    \"Accenture Brasil\":\"Accenture\",\n",
    "    \"Accenture Strategy (formerly Axia Limited)\":\"Accenture\",\n",
    "    \"B2W Digital\":\"B2W\",\n",
    "    \"BANORTE SEGUROS Y PENSIONES\":\"BANORTE\",\n",
    "    \"Caon Castro Consentino Mendonça Sociedade de Advogados\":\"Caon Castro Consentino Mendonça Sociedade de Advogados \",\n",
    "    \"Citi\":\"Civi\",\n",
    "    \"Dafiti Group\":\"Dafiti\",\n",
    "    \"Falabella Retail\":\"Falabella\",\n",
    "    \"Falabella Retail S.A\":\"Falabella\",\n",
    "    \"Grupo Modelo S.A. de C.V.\":\"Grupo Modelo\",\n",
    "    \"HawkersCo\":\"Hawkers Group\",\n",
    "    \"INSEAD Student Impact Fund (ISIF)\":\"INSEAD\",\n",
    "    \"Indra BPO México, S. A. de C. V.\":\"Indra\",\n",
    "    \"Insider Store\":\"Insider\",\n",
    "    \"Johnson & Johnson Consumer Health\":\"Johnson & Johnson\",\n",
    "    \"KPMG Brazil\":\"KPMG\",\n",
    "    \"KPMG México\":\"KPGM\",\n",
    "    \"Kavak México\":\"Kavak.com\",\n",
    "    \"Laika Mascotas\":\"Laika app\",\n",
    "    \"Matrix Solutions\":\"Matrix CMP\",\n",
    "    \"Mercado Livre\":\"Mercado Libre\",\n",
    "    \"Mercado Livre Brasil\":\"Mercado Libre\",\n",
    "    \"Mercado Pago Brasil\":\"Mercado Libre\",\n",
    "    \"Miind Brands (anteriormente D2Honesty) / Adquirida por Merama en el 2022\":\"Miind Brands\",\n",
    "    \"Miind Brands | Digital Native Brands\":\"Miind Brands\",\n",
    "    \"Miind Native Digital Brands\":\"Miind Brands\",\n",
    "    \"Miind | Digital Native Brands (Formerly D2Honesty)\":\"Miind Brands\",\n",
    "    \"Modloft Furniture\":\"Modloft\",\n",
    "    \"Petlove&Co\":\"Petlove\",\n",
    "    \"PwC Brasil\":\"PWC\",\n",
    "    \"PwC Chile\":\"PWC\",\n",
    "    \"PwC Colombia\":\"PWC\",\n",
    "    \"RVC - Reis, Rocha e Carvalho Sociedade de Advogados\":\"RVC Consultores Tributário\",\n",
    "    \"RVC Advocacia e Consultoria Tributária e Empresarial\":\"RVC Consultores Tributário\",\n",
    "    \"Raken DataGroup\":\"Raken Data Group\",\n",
    "    \"Raken Digital Talent\":\"Raken Data Group\",\n",
    "    \"Red Latinoamericana de Transformación Digital\":\"Red Latinoamericana de Transformacion Digital\",\n",
    "    \"Synapcom Full Commerce\":\"Synapcom\",\n",
    "    \"Tata Consultancy Services Latinoamérica\":\"Tata Consultancy Services\",\n",
    "    \"Telefónica\":\"Telefonica\",\n",
    "    \"Telefónica Tech\":\"Telefonica\",\n",
    "    \"Universidad Anáhuac Mayab\":\"Universidad Anáhuac\",\n",
    "    \"Universidad Anáhuac Mexico Norte\":\"Universidad Anáhuac\",\n",
    "    \"Universidad Anáhuac México\":\"Universidad Anáhuac\",\n",
    "    \"University of California, Berkeley, Haas School of Business\":\"University of California\",\n",
    "    \"University of California, San Diego - Rady School of Management\":\"University of California\",\n",
    "    \"Via Varejo SA\":\"Via\",\n",
    "    \"Walmart de México y Centroamérica\":\"Walmart\",\n",
    "    \"Walmart eCommerce\":\"Walmart\",\n",
    "    \"XP INVESTIMENTOS\":\"XP Inc.\"\n",
    "})"
   ]
  },
  {
   "cell_type": "code",
   "execution_count": 99,
   "metadata": {},
   "outputs": [],
   "source": [
    "#Homologamos las industrias\n",
    "works.Industries = works.Industries.apply(lambda x: x[0] if isinstance(x,list) else np.nan)\n",
    "works.Industries = works.Industries.fillna('SinIndustria')\n",
    "works.Industries = works.Industries.str.replace(',',' ')\n",
    "works.Industries = works.Industries.apply(lambda x: unicodedata.normalize(\"NFKD\", x).encode(\"ascii\",\"ignore\").decode(\"ascii\"))\n",
    "works.Industries = works.Industries.str.replace(' ',\"\")"
   ]
  },
  {
   "cell_type": "code",
   "execution_count": 100,
   "metadata": {},
   "outputs": [],
   "source": [
    "#Quitamos comas y acentos\n",
    "works.companys = works.companys.str.replace(',',' ')\n",
    "works.companys = works.companys.apply(lambda x: unicodedata.normalize(\"NFKD\", x).encode(\"ascii\",\"ignore\").decode(\"ascii\"))\n",
    "works.companys = works.companys.str.replace(' ',\"\")"
   ]
  },
  {
   "cell_type": "code",
   "execution_count": 101,
   "metadata": {},
   "outputs": [],
   "source": [
    "#Desconcatenamos fechas\n",
    "works['StartMonth'] = works.StartPeriod.apply(lambda x: x.get('month') if isinstance(x,dict) else np.nan)\n",
    "works['StartYear'] = works.StartPeriod.apply(lambda x: x.get('year') if isinstance(x,dict) else np.nan)\n",
    "works['EndMonth'] = works.EndPeriod.apply(lambda x: x.get('month') if isinstance(x,dict) else np.nan)\n",
    "works['EndYear'] = works.EndPeriod.apply(lambda x: x.get('year') if isinstance(x,dict) else np.nan)"
   ]
  },
  {
   "cell_type": "code",
   "execution_count": 102,
   "metadata": {},
   "outputs": [],
   "source": [
    "#Eliminamos las columnas que ya no nos sirven\n",
    "works.drop(['StartPeriod','EndPeriod'], axis = 1,inplace = True)"
   ]
  },
  {
   "cell_type": "code",
   "execution_count": 103,
   "metadata": {},
   "outputs": [],
   "source": [
    "#Donde la EndDate sea nula ponemos 2022 asumiendo que siguen en ese trabajo\n",
    "works.EndYear = works.EndYear.fillna(2022)"
   ]
  },
  {
   "cell_type": "code",
   "execution_count": 104,
   "metadata": {},
   "outputs": [],
   "source": [
    "#Quitamos los regitros que no tienen fecha de entrada\n",
    "works = works[works['StartYear'].notna()]"
   ]
  },
  {
   "cell_type": "code",
   "execution_count": 105,
   "metadata": {},
   "outputs": [],
   "source": [
    "#Numero de años por trabajo\n",
    "works['TotalYears'] = (works.EndYear - works.StartYear).astype(int)"
   ]
  },
  {
   "cell_type": "code",
   "execution_count": 106,
   "metadata": {},
   "outputs": [],
   "source": [
    "works['StartMonth'] = works['StartMonth'].fillna(1)\n",
    "works['EndMonth'] = works['EndMonth'].fillna(12)"
   ]
  },
  {
   "cell_type": "code",
   "execution_count": 107,
   "metadata": {},
   "outputs": [],
   "source": [
    "works['StartMonthPeriod'] = pd.to_datetime(works.StartMonth.astype(int).astype(str) + works.StartYear.astype(int).astype(str),format = '%m%Y')\n",
    "works['EndMonthPeriod'] = pd.to_datetime(works.EndMonth.astype(int).astype(str) + works.EndYear.astype(int).astype(str),format = '%m%Y')"
   ]
  },
  {
   "cell_type": "code",
   "execution_count": 108,
   "metadata": {},
   "outputs": [],
   "source": [
    "works['TotalMonths'] = round((works['EndMonthPeriod'] - works['StartMonthPeriod'])/np.timedelta64(1, 'M'))"
   ]
  },
  {
   "cell_type": "code",
   "execution_count": 109,
   "metadata": {},
   "outputs": [],
   "source": [
    "works.TotalMonths = works.TotalMonths.astype(int)"
   ]
  },
  {
   "cell_type": "code",
   "execution_count": 110,
   "metadata": {},
   "outputs": [],
   "source": [
    "DF_to_adjacency_matrix_month = pd.DataFrame()\n",
    "\n",
    "for index,row in works.iterrows():\n",
    "    \n",
    "    if row.TotalMonths == 0:\n",
    "        temp = pd.DataFrame({\n",
    "            'uuid':[row.uuid],\n",
    "            'company': [row.companys],\n",
    "            'period':[row.StartMonthPeriod],\n",
    "            'industry':[row.Industries]\n",
    "        })\n",
    "        \n",
    "        DF_to_adjacency_matrix_month = pd.concat([DF_to_adjacency_matrix_month,temp])\n",
    "        \n",
    "    else:\n",
    "        for i in range(row.TotalMonths):\n",
    "            temp = pd.DataFrame({\n",
    "                'uuid':[row.uuid],\n",
    "                'company': [row.companys],\n",
    "                'period':[row.StartMonthPeriod],\n",
    "                'industry':[row.Industries]\n",
    "            })\n",
    "            \n",
    "            row.StartMonthPeriod = row.StartMonthPeriod + relativedelta(months=1) \n",
    "            DF_to_adjacency_matrix_month = pd.concat([DF_to_adjacency_matrix_month,temp])"
   ]
  },
  {
   "cell_type": "code",
   "execution_count": 111,
   "metadata": {},
   "outputs": [],
   "source": [
    "DF_to_adjacency_matrix = pd.DataFrame()\n",
    "\n",
    "for index,row in works.iterrows():\n",
    "    #print(row.StartYear)\n",
    "    \n",
    "    if row.TotalYears == 0:\n",
    "        temp = pd.DataFrame({\n",
    "            'uuid':[row.uuid],\n",
    "            'company': [row.companys],\n",
    "            'year':[row.EndYear],\n",
    "            'industry':[row.Industries]\n",
    "        })\n",
    "        \n",
    "        DF_to_adjacency_matrix = pd.concat([DF_to_adjacency_matrix,temp])\n",
    "        \n",
    "    else:\n",
    "        StartYear = row.StartYear\n",
    "        for i in range(row.TotalYears):\n",
    "            \n",
    "            temp = pd.DataFrame({\n",
    "                'uuid':[row.uuid],\n",
    "                'company': [row.companys],\n",
    "                'year':[StartYear],\n",
    "                'industry':[row.Industries]\n",
    "            })\n",
    "            \n",
    "            StartYear += 1\n",
    "            DF_to_adjacency_matrix = pd.concat([DF_to_adjacency_matrix,temp])"
   ]
  },
  {
   "cell_type": "code",
   "execution_count": 112,
   "metadata": {},
   "outputs": [
    {
     "name": "stdout",
     "output_type": "stream",
     "text": [
      "481\n"
     ]
    },
    {
     "data": {
      "text/plain": [
       "1089"
      ]
     },
     "execution_count": 112,
     "metadata": {},
     "output_type": "execute_result"
    }
   ],
   "source": [
    "print(len(np.unique(DF_to_adjacency_matrix.uuid)))\n",
    "len(np.unique(DF_to_adjacency_matrix.company))"
   ]
  },
  {
   "cell_type": "code",
   "execution_count": 113,
   "metadata": {},
   "outputs": [],
   "source": [
    "DF_to_adjacency_matrix = DF_to_adjacency_matrix.drop_duplicates()"
   ]
  },
  {
   "cell_type": "code",
   "execution_count": null,
   "metadata": {},
   "outputs": [],
   "source": [
    "DF_to_adjacency_matrix.to_excel('DF_to_adjacency_matrix.xlsx',index = False)"
   ]
  },
  {
   "cell_type": "code",
   "execution_count": 114,
   "metadata": {},
   "outputs": [],
   "source": [
    "DF_to_adjacency_matrix_month.period = DF_to_adjacency_matrix_month.period.dt.strftime(\"%Y-%m\")"
   ]
  },
  {
   "cell_type": "code",
   "execution_count": null,
   "metadata": {},
   "outputs": [],
   "source": [
    "DF_to_adjacency_matrix_month.to_excel('DF_to_adjacency_matrix_month.xlsx',index = False)"
   ]
  },
  {
   "cell_type": "markdown",
   "metadata": {},
   "source": [
    "# Creamos la red por año"
   ]
  },
  {
   "cell_type": "code",
   "execution_count": null,
   "metadata": {},
   "outputs": [],
   "source": [
    "uuids = pd.read_csv('uuids merama.csv')"
   ]
  },
  {
   "cell_type": "code",
   "execution_count": null,
   "metadata": {},
   "outputs": [],
   "source": [
    "DF_to_adjacency_matrix = pd.read_excel('DF_to_adjacency_matrix.xlsx')"
   ]
  },
  {
   "cell_type": "code",
   "execution_count": null,
   "metadata": {},
   "outputs": [],
   "source": [
    "DF_to_adjacency_matrix = DF_to_adjacency_matrix[DF_to_adjacency_matrix.uuid.isin(uuids.uuid)]"
   ]
  },
  {
   "cell_type": "code",
   "execution_count": null,
   "metadata": {},
   "outputs": [],
   "source": [
    "#Seleecionamos año\n",
    "graph = DF_to_adjacency_matrix[DF_to_adjacency_matrix.year >= 2010]"
   ]
  },
  {
   "cell_type": "code",
   "execution_count": null,
   "metadata": {},
   "outputs": [],
   "source": [
    "nodes = np.append(np.unique(graph.uuid),np.unique(graph.company) )"
   ]
  },
  {
   "cell_type": "code",
   "execution_count": null,
   "metadata": {},
   "outputs": [],
   "source": [
    "columns = ['year','uuid','company']\n",
    "years = []\n",
    "graphs_list = []\n",
    "for year in np.sort(graph.year.unique()):\n",
    "    _temp = define_graph_period(year,nodes,graph,columns)\n",
    "    _year = str(year)\n",
    "    years.append(year)\n",
    "    add = (_temp,_year)\n",
    "    graphs_list.append(add)"
   ]
  },
  {
   "cell_type": "markdown",
   "metadata": {},
   "source": [
    "# Dos personas se encuentran en la misma empresa en el mismo año"
   ]
  },
  {
   "cell_type": "code",
   "execution_count": null,
   "metadata": {},
   "outputs": [],
   "source": [
    "companys = graph.company.unique()\n",
    "people = graph.uuid.unique()\n",
    "marker = itertools.cycle(('.', '+', '.', 'o', '*',\"v\",\"^\",\"<\",\">\",\"1\",\"2\",\"3\",\"4\")) "
   ]
  },
  {
   "cell_type": "code",
   "execution_count": null,
   "metadata": {},
   "outputs": [],
   "source": [
    "#Companys\n",
    "graphs_list_c = []\n",
    "for graph, year in graphs_list:\n",
    "    proyection_bipartite(graph, year, graphs_list_c,companys)"
   ]
  },
  {
   "cell_type": "code",
   "execution_count": null,
   "metadata": {},
   "outputs": [],
   "source": [
    "#People\n",
    "graphs_list_p = []\n",
    "for graph, year in graphs_list:\n",
    "    proyection_bipartite(graph, year, graphs_list_p, people)"
   ]
  },
  {
   "cell_type": "code",
   "execution_count": null,
   "metadata": {},
   "outputs": [],
   "source": [
    "#Grado por año\n",
    "for graph_,label in graphs_list:\n",
    "    degree = pd.DataFrame(nx.degree(graph_))[1]\n",
    "    val, freq = np.unique(degree, return_counts=True)\n",
    "    plt.loglog(val,freq,label = str(label), marker = next(marker), linestyle='')\n",
    "\n",
    "plt.xlabel(r'$k$')\n",
    "plt.ylabel(r'$f(k)$')\n",
    "plt.legend()\n",
    "plt.show()"
   ]
  },
  {
   "cell_type": "code",
   "execution_count": null,
   "metadata": {},
   "outputs": [],
   "source": [
    "#Grado por año empresas\n",
    "for graph_,label in graphs_list_c:\n",
    "    degree = pd.DataFrame(nx.degree(graph_))[1]\n",
    "    val, freq = np.unique(degree, return_counts=True)\n",
    "    plt.loglog(val,freq,label = str(label), marker = next(marker), linestyle='')\n",
    "\n",
    "plt.xlabel(r'$k$')\n",
    "plt.ylabel(r'$f(k)$')\n",
    "plt.legend()\n",
    "plt.show()"
   ]
  },
  {
   "cell_type": "code",
   "execution_count": null,
   "metadata": {},
   "outputs": [],
   "source": [
    "#Grado por año Personas\n",
    "plt.figure(3,figsize=(10,10)) \n",
    "for graph_,label in graphs_list_p:\n",
    "    degree = pd.DataFrame(nx.degree(graph_))[1]\n",
    "    val, freq = np.unique(degree, return_counts=True)\n",
    "    plt.loglog(val,freq,label = str(label), marker = next(marker), linestyle='')\n",
    "\n",
    "plt.xlabel(r'$k$')\n",
    "plt.ylabel(r'$f(k)$')\n",
    "plt.legend()\n",
    "plt.show()"
   ]
  },
  {
   "cell_type": "code",
   "execution_count": null,
   "metadata": {},
   "outputs": [],
   "source": [
    "#Primer criterio (Dos personas se encuentran en la misma empresa el mismo año)"
   ]
  },
  {
   "cell_type": "code",
   "execution_count": null,
   "metadata": {},
   "outputs": [],
   "source": [
    "Gcc = sorted(nx.connected_components(_2020_p), key=len, reverse=True)\n",
    "G0 = _2020_p.subgraph(Gcc[0])"
   ]
  },
  {
   "cell_type": "code",
   "execution_count": null,
   "metadata": {},
   "outputs": [],
   "source": [
    "nx.draw_networkx??"
   ]
  },
  {
   "cell_type": "code",
   "execution_count": null,
   "metadata": {},
   "outputs": [],
   "source": [
    "nx.draw_networks¿x"
   ]
  },
  {
   "cell_type": "code",
   "execution_count": null,
   "metadata": {},
   "outputs": [],
   "source": [
    "#Evolucion de la <k> y <C>\n",
    "k_average_c_1  = [pd.DataFrame(nx.degree(value)).mean().values for value,key in graphs_list_c]\n",
    "k_average_p_1  = [pd.DataFrame(nx.degree(value)).mean().values for value,key in graphs_list_p]\n",
    "C_average_c_1  = [np.array(list(nx.clustering(value).values())).mean() for value,key in graphs_list_c]\n",
    "C_average_p_1  = [np.array(list(nx.clustering(value).values())).mean() for value,key in graphs_list_p]"
   ]
  },
  {
   "cell_type": "markdown",
   "metadata": {},
   "source": [
    "# Dos personas que se encuentran en una empresa sin importar el año"
   ]
  },
  {
   "cell_type": "code",
   "execution_count": null,
   "metadata": {},
   "outputs": [],
   "source": [
    "for i in range(len(graphs_list)-1):\n",
    "    for edge in graphs_list[i][0].edges():\n",
    "        graphs_list[i+1][0].add_edge(*edge)"
   ]
  },
  {
   "cell_type": "code",
   "execution_count": null,
   "metadata": {},
   "outputs": [],
   "source": [
    "#Companys\n",
    "graphs_list_c_2 = []\n",
    "for graph, year in graphs_list:\n",
    "    proyection_bipartite(graph, year, graphs_list_c_2,companys)"
   ]
  },
  {
   "cell_type": "code",
   "execution_count": null,
   "metadata": {},
   "outputs": [],
   "source": [
    "#People\n",
    "graphs_list_p_2 = []\n",
    "for graph, year in graphs_list:\n",
    "    proyection_bipartite(graph, year, graphs_list_p_2, people)"
   ]
  },
  {
   "cell_type": "code",
   "execution_count": null,
   "metadata": {},
   "outputs": [],
   "source": [
    "#Grado por año\n",
    "for graph_,label in graphs_list:\n",
    "    degree = pd.DataFrame(nx.degree(graph_))[1]\n",
    "    val, freq = np.unique(degree, return_counts=True)\n",
    "    plt.loglog(val,freq,label = str(label), marker = next(marker), linestyle='')\n",
    "\n",
    "plt.xlabel(r'$k$')\n",
    "plt.ylabel(r'$f(k)$')\n",
    "plt.legend()\n",
    "plt.show()"
   ]
  },
  {
   "cell_type": "code",
   "execution_count": null,
   "metadata": {},
   "outputs": [],
   "source": [
    "#Grado por año empresas\n",
    "for graph_,label in graphs_list_c_2:\n",
    "    degree = pd.DataFrame(nx.degree(graph_))[1]\n",
    "    val, freq = np.unique(degree, return_counts=True)\n",
    "    plt.loglog(val,freq,label = str(label), marker = next(marker), linestyle='')\n",
    "\n",
    "plt.xlabel(r'$k$')\n",
    "plt.ylabel(r'$f(k)$')\n",
    "plt.legend()\n",
    "plt.show()"
   ]
  },
  {
   "cell_type": "code",
   "execution_count": null,
   "metadata": {},
   "outputs": [],
   "source": [
    "#Grado por año Personas\n",
    "plt.figure(3,figsize=(10,10)) \n",
    "for graph_,label in graphs_list_p_2:\n",
    "    degree = pd.DataFrame(nx.degree(graph_))[1]\n",
    "    val, freq = np.unique(degree, return_counts=True)\n",
    "    plt.loglog(val,freq,label = str(label), marker = next(marker), linestyle='')\n",
    "\n",
    "plt.xlabel(r'$k$')\n",
    "plt.ylabel(r'$f(k)$')\n",
    "plt.legend()\n",
    "plt.show()"
   ]
  },
  {
   "cell_type": "code",
   "execution_count": null,
   "metadata": {},
   "outputs": [],
   "source": [
    "#Evolucion de la <k> y <C>\n",
    "k_average_c_2  = [pd.DataFrame(nx.degree(value)).mean().values for value,key in graphs_list_c_2]\n",
    "k_average_p_2  = [pd.DataFrame(nx.degree(value)).mean().values for value,key in graphs_list_p_2]\n",
    "C_average_c_2  = [np.array(list(nx.clustering(value).values())).mean() for value,key in graphs_list_c_2]\n",
    "C_average_p_2  = [np.array(list(nx.clustering(value).values())).mean() for value,key in graphs_list_p_2]"
   ]
  },
  {
   "cell_type": "code",
   "execution_count": null,
   "metadata": {},
   "outputs": [],
   "source": []
  },
  {
   "cell_type": "code",
   "execution_count": null,
   "metadata": {},
   "outputs": [],
   "source": [
    "review = graphs_list_p[8][0]\n",
    "Gcc = sorted(nx.connected_components(review), key=len, reverse=True)\n",
    "G0 = review.subgraph(Gcc[0])"
   ]
  },
  {
   "cell_type": "code",
   "execution_count": null,
   "metadata": {},
   "outputs": [],
   "source": [
    "plt.figure(3,figsize=(20,20)) \n",
    "nx.draw(G0,with_labels = True )"
   ]
  },
  {
   "cell_type": "code",
   "execution_count": null,
   "metadata": {},
   "outputs": [],
   "source": [
    "years"
   ]
  },
  {
   "cell_type": "code",
   "execution_count": null,
   "metadata": {},
   "outputs": [],
   "source": [
    "review = graphs_list_p[10][0]\n",
    "Gcc = sorted(nx.connected_components(review), key=len, reverse=True)\n",
    "G0 = review.subgraph(Gcc[0])"
   ]
  },
  {
   "cell_type": "code",
   "execution_count": null,
   "metadata": {
    "scrolled": false
   },
   "outputs": [],
   "source": [
    "plt.figure(3,figsize=(20,20)) \n",
    "nx.draw(G0,with_labels = True )"
   ]
  },
  {
   "cell_type": "code",
   "execution_count": null,
   "metadata": {},
   "outputs": [],
   "source": [
    "G0.edges()"
   ]
  },
  {
   "cell_type": "code",
   "execution_count": null,
   "metadata": {},
   "outputs": [],
   "source": [
    "DF_to_adjacency_matrix[DF_to_adjacency_matrix.company == \"PortoSeguro\"]"
   ]
  },
  {
   "cell_type": "code",
   "execution_count": null,
   "metadata": {},
   "outputs": [],
   "source": [
    "DF_to_adjacency_matrix[DF_to_adjacency_matrix.company == \"Deloitte\"]"
   ]
  },
  {
   "cell_type": "code",
   "execution_count": null,
   "metadata": {},
   "outputs": [],
   "source": [
    "DF_to_adjacency_matrix[DF_to_adjacency_matrix.uuid.isin([\"74f8c57b\"])].sort_values('year')"
   ]
  },
  {
   "cell_type": "code",
   "execution_count": null,
   "metadata": {},
   "outputs": [],
   "source": [
    "DF_to_adjacency_matrix[DF_to_adjacency_matrix.uuid.isin([\"51497435\"])].sort_values('year')       "
   ]
  },
  {
   "cell_type": "code",
   "execution_count": null,
   "metadata": {},
   "outputs": [],
   "source": [
    "DF_to_adjacency_matrix[DF_to_adjacency_matrix.uuid.isin([\"88653e42\"])].sort_values('year')"
   ]
  },
  {
   "cell_type": "markdown",
   "metadata": {},
   "source": [
    "# Graficas"
   ]
  },
  {
   "cell_type": "code",
   "execution_count": null,
   "metadata": {},
   "outputs": [],
   "source": [
    "# K promedio compañias \n",
    "plt.plot(years, k_average_c_2, label = 'Criterio 2')\n",
    "plt.plot(years, k_average_c_1, label = 'Criterio 1')\n",
    "plt.legend()\n",
    "plt.plot()"
   ]
  },
  {
   "cell_type": "code",
   "execution_count": null,
   "metadata": {},
   "outputs": [],
   "source": [
    "# K promedio personas \n",
    "plt.plot(years, k_average_p_2, label = 'Criterio 2')\n",
    "plt.plot(years, k_average_p_1, label = 'Criterio 1')\n",
    "plt.legend()\n",
    "plt.plot()"
   ]
  },
  {
   "cell_type": "code",
   "execution_count": null,
   "metadata": {},
   "outputs": [],
   "source": [
    "# C promedio personas \n",
    "plt.plot(years, C_average_p_2, label = 'Criterio 2')\n",
    "plt.plot(years, C_average_p_1, label = 'Criterio 1')\n",
    "plt.legend()\n",
    "plt.plot()"
   ]
  },
  {
   "cell_type": "code",
   "execution_count": null,
   "metadata": {},
   "outputs": [],
   "source": [
    "# C promedio personas \n",
    "plt.plot(years, C_average_c_2, label = 'Criterio 2')\n",
    "plt.plot(years, C_average_c_1, label = 'Criterio 1')\n",
    "plt.legend()\n",
    "plt.plot()"
   ]
  },
  {
   "cell_type": "markdown",
   "metadata": {},
   "source": [
    "# Creamos las redes por mes"
   ]
  },
  {
   "cell_type": "code",
   "execution_count": 286,
   "metadata": {},
   "outputs": [],
   "source": [
    "#Leemos los archivos\n",
    "uuids = pd.read_csv('uuids merama.csv')\n",
    "DF_to_adjacency_matrix_month = pd.read_excel('DF_to_adjacency_matrix_month.xlsx',index = False)"
   ]
  },
  {
   "cell_type": "code",
   "execution_count": 287,
   "metadata": {},
   "outputs": [],
   "source": [
    "#Seleccionamos los que esten en merama\n",
    "DF_to_adjacency_matrix_month = DF_to_adjacency_matrix_month[DF_to_adjacency_matrix_month.uuid.isin(uuids.uuid)]"
   ]
  },
  {
   "cell_type": "code",
   "execution_count": 288,
   "metadata": {},
   "outputs": [],
   "source": [
    "#Cambios\n",
    "P_period = DF_to_adjacency_matrix_month[DF_to_adjacency_matrix_month.period <= '2020-10']"
   ]
  },
  {
   "cell_type": "code",
   "execution_count": 289,
   "metadata": {
    "scrolled": false
   },
   "outputs": [],
   "source": [
    "changes = []\n",
    "P_period_df = pd.DataFrame()\n",
    "for uuid in P_period.uuid.unique():\n",
    "    _aux = P_period[P_period.uuid == uuid].sort_values('period').reset_index(drop = True)\n",
    "    changes.append(0)\n",
    "    for row in range(len(_aux)-1):\n",
    "        #print(_aux.iloc[row + 1])\n",
    "        if _aux.iloc[row + 1].company != _aux.iloc[row].company:\n",
    "            changes.append(1)\n",
    "            #print('*'*20)\n",
    "        else:\n",
    "            changes.append(0)\n",
    "    P_period_df = pd.concat([P_period_df,_aux])"
   ]
  },
  {
   "cell_type": "code",
   "execution_count": null,
   "metadata": {},
   "outputs": [],
   "source": []
  },
  {
   "cell_type": "code",
   "execution_count": 299,
   "metadata": {},
   "outputs": [
    {
     "data": {
      "text/html": [
       "<div>\n",
       "<style scoped>\n",
       "    .dataframe tbody tr th:only-of-type {\n",
       "        vertical-align: middle;\n",
       "    }\n",
       "\n",
       "    .dataframe tbody tr th {\n",
       "        vertical-align: top;\n",
       "    }\n",
       "\n",
       "    .dataframe thead th {\n",
       "        text-align: right;\n",
       "    }\n",
       "</style>\n",
       "<table border=\"1\" class=\"dataframe\">\n",
       "  <thead>\n",
       "    <tr style=\"text-align: right;\">\n",
       "      <th></th>\n",
       "      <th>index</th>\n",
       "      <th>uuid</th>\n",
       "      <th>company</th>\n",
       "      <th>period</th>\n",
       "      <th>industry</th>\n",
       "      <th>changes</th>\n",
       "    </tr>\n",
       "  </thead>\n",
       "  <tbody>\n",
       "    <tr>\n",
       "      <th>22</th>\n",
       "      <td>24</td>\n",
       "      <td>f16f1487</td>\n",
       "      <td>OrestiaS.A.deC.V.</td>\n",
       "      <td>2015-05</td>\n",
       "      <td>BuildingMaterials</td>\n",
       "      <td>1</td>\n",
       "    </tr>\n",
       "    <tr>\n",
       "      <th>26</th>\n",
       "      <td>150</td>\n",
       "      <td>ac825818</td>\n",
       "      <td>AT&amp;T</td>\n",
       "      <td>2017-08</td>\n",
       "      <td>Telecommunications</td>\n",
       "      <td>1</td>\n",
       "    </tr>\n",
       "    <tr>\n",
       "      <th>46</th>\n",
       "      <td>146</td>\n",
       "      <td>ac825818</td>\n",
       "      <td>Cabify</td>\n",
       "      <td>2019-05</td>\n",
       "      <td>ComputerSoftware</td>\n",
       "      <td>1</td>\n",
       "    </tr>\n",
       "    <tr>\n",
       "      <th>50</th>\n",
       "      <td>122</td>\n",
       "      <td>ac825818</td>\n",
       "      <td>Privalia</td>\n",
       "      <td>2019-10</td>\n",
       "      <td>ComputerSoftware</td>\n",
       "      <td>1</td>\n",
       "    </tr>\n",
       "    <tr>\n",
       "      <th>10</th>\n",
       "      <td>217</td>\n",
       "      <td>e02a35e9</td>\n",
       "      <td>MOBOMEXICO</td>\n",
       "      <td>2019-06</td>\n",
       "      <td>Retail</td>\n",
       "      <td>1</td>\n",
       "    </tr>\n",
       "    <tr>\n",
       "      <th>...</th>\n",
       "      <td>...</td>\n",
       "      <td>...</td>\n",
       "      <td>...</td>\n",
       "      <td>...</td>\n",
       "      <td>...</td>\n",
       "      <td>...</td>\n",
       "    </tr>\n",
       "    <tr>\n",
       "      <th>1</th>\n",
       "      <td>44095</td>\n",
       "      <td>4c1f59df</td>\n",
       "      <td>4Student</td>\n",
       "      <td>2018-12</td>\n",
       "      <td>RealEstate</td>\n",
       "      <td>1</td>\n",
       "    </tr>\n",
       "    <tr>\n",
       "      <th>3</th>\n",
       "      <td>44082</td>\n",
       "      <td>4c1f59df</td>\n",
       "      <td>NestAssetManagement</td>\n",
       "      <td>2020-05</td>\n",
       "      <td>InvestmentManagement</td>\n",
       "      <td>1</td>\n",
       "    </tr>\n",
       "    <tr>\n",
       "      <th>34</th>\n",
       "      <td>44312</td>\n",
       "      <td>23aa9e67</td>\n",
       "      <td>TodoLlavesAVC.A.</td>\n",
       "      <td>2013-09</td>\n",
       "      <td>SinIndustria</td>\n",
       "      <td>1</td>\n",
       "    </tr>\n",
       "    <tr>\n",
       "      <th>77</th>\n",
       "      <td>44281</td>\n",
       "      <td>23aa9e67</td>\n",
       "      <td>mobileHUT</td>\n",
       "      <td>2017-08</td>\n",
       "      <td>SinIndustria</td>\n",
       "      <td>1</td>\n",
       "    </tr>\n",
       "    <tr>\n",
       "      <th>108</th>\n",
       "      <td>44255</td>\n",
       "      <td>23aa9e67</td>\n",
       "      <td>Entel</td>\n",
       "      <td>2020-03</td>\n",
       "      <td>Telecommunications</td>\n",
       "      <td>1</td>\n",
       "    </tr>\n",
       "  </tbody>\n",
       "</table>\n",
       "<p>2334 rows × 6 columns</p>\n",
       "</div>"
      ],
      "text/plain": [
       "     index      uuid              company   period              industry  \\\n",
       "22      24  f16f1487    OrestiaS.A.deC.V.  2015-05     BuildingMaterials   \n",
       "26     150  ac825818                 AT&T  2017-08    Telecommunications   \n",
       "46     146  ac825818               Cabify  2019-05      ComputerSoftware   \n",
       "50     122  ac825818             Privalia  2019-10      ComputerSoftware   \n",
       "10     217  e02a35e9           MOBOMEXICO  2019-06                Retail   \n",
       "..     ...       ...                  ...      ...                   ...   \n",
       "1    44095  4c1f59df             4Student  2018-12            RealEstate   \n",
       "3    44082  4c1f59df  NestAssetManagement  2020-05  InvestmentManagement   \n",
       "34   44312  23aa9e67     TodoLlavesAVC.A.  2013-09          SinIndustria   \n",
       "77   44281  23aa9e67            mobileHUT  2017-08          SinIndustria   \n",
       "108  44255  23aa9e67                Entel  2020-03    Telecommunications   \n",
       "\n",
       "     changes  \n",
       "22         1  \n",
       "26         1  \n",
       "46         1  \n",
       "50         1  \n",
       "10         1  \n",
       "..       ...  \n",
       "1          1  \n",
       "3          1  \n",
       "34         1  \n",
       "77         1  \n",
       "108        1  \n",
       "\n",
       "[2334 rows x 6 columns]"
      ]
     },
     "execution_count": 299,
     "metadata": {},
     "output_type": "execute_result"
    }
   ],
   "source": [
    "P_period_df[P_period_df.changes == 1]"
   ]
  },
  {
   "cell_type": "code",
   "execution_count": 302,
   "metadata": {},
   "outputs": [
    {
     "data": {
      "text/html": [
       "<div>\n",
       "<style scoped>\n",
       "    .dataframe tbody tr th:only-of-type {\n",
       "        vertical-align: middle;\n",
       "    }\n",
       "\n",
       "    .dataframe tbody tr th {\n",
       "        vertical-align: top;\n",
       "    }\n",
       "\n",
       "    .dataframe thead th {\n",
       "        text-align: right;\n",
       "    }\n",
       "</style>\n",
       "<table border=\"1\" class=\"dataframe\">\n",
       "  <thead>\n",
       "    <tr style=\"text-align: right;\">\n",
       "      <th></th>\n",
       "      <th>index</th>\n",
       "      <th>uuid</th>\n",
       "      <th>company</th>\n",
       "      <th>period</th>\n",
       "      <th>industry</th>\n",
       "      <th>changes</th>\n",
       "    </tr>\n",
       "  </thead>\n",
       "  <tbody>\n",
       "    <tr>\n",
       "      <th>0</th>\n",
       "      <td>170</td>\n",
       "      <td>ac825818</td>\n",
       "      <td>sertecamericanexpress</td>\n",
       "      <td>2015-05</td>\n",
       "      <td>SinIndustria</td>\n",
       "      <td>0</td>\n",
       "    </tr>\n",
       "    <tr>\n",
       "      <th>1</th>\n",
       "      <td>171</td>\n",
       "      <td>ac825818</td>\n",
       "      <td>sertecamericanexpress</td>\n",
       "      <td>2015-06</td>\n",
       "      <td>SinIndustria</td>\n",
       "      <td>0</td>\n",
       "    </tr>\n",
       "    <tr>\n",
       "      <th>2</th>\n",
       "      <td>172</td>\n",
       "      <td>ac825818</td>\n",
       "      <td>sertecamericanexpress</td>\n",
       "      <td>2015-07</td>\n",
       "      <td>SinIndustria</td>\n",
       "      <td>0</td>\n",
       "    </tr>\n",
       "    <tr>\n",
       "      <th>3</th>\n",
       "      <td>173</td>\n",
       "      <td>ac825818</td>\n",
       "      <td>sertecamericanexpress</td>\n",
       "      <td>2015-08</td>\n",
       "      <td>SinIndustria</td>\n",
       "      <td>0</td>\n",
       "    </tr>\n",
       "    <tr>\n",
       "      <th>4</th>\n",
       "      <td>174</td>\n",
       "      <td>ac825818</td>\n",
       "      <td>sertecamericanexpress</td>\n",
       "      <td>2015-09</td>\n",
       "      <td>SinIndustria</td>\n",
       "      <td>0</td>\n",
       "    </tr>\n",
       "    <tr>\n",
       "      <th>5</th>\n",
       "      <td>175</td>\n",
       "      <td>ac825818</td>\n",
       "      <td>sertecamericanexpress</td>\n",
       "      <td>2015-10</td>\n",
       "      <td>SinIndustria</td>\n",
       "      <td>0</td>\n",
       "    </tr>\n",
       "    <tr>\n",
       "      <th>6</th>\n",
       "      <td>176</td>\n",
       "      <td>ac825818</td>\n",
       "      <td>sertecamericanexpress</td>\n",
       "      <td>2015-11</td>\n",
       "      <td>SinIndustria</td>\n",
       "      <td>0</td>\n",
       "    </tr>\n",
       "    <tr>\n",
       "      <th>7</th>\n",
       "      <td>177</td>\n",
       "      <td>ac825818</td>\n",
       "      <td>sertecamericanexpress</td>\n",
       "      <td>2015-12</td>\n",
       "      <td>SinIndustria</td>\n",
       "      <td>0</td>\n",
       "    </tr>\n",
       "    <tr>\n",
       "      <th>8</th>\n",
       "      <td>178</td>\n",
       "      <td>ac825818</td>\n",
       "      <td>sertecamericanexpress</td>\n",
       "      <td>2016-01</td>\n",
       "      <td>SinIndustria</td>\n",
       "      <td>0</td>\n",
       "    </tr>\n",
       "    <tr>\n",
       "      <th>9</th>\n",
       "      <td>179</td>\n",
       "      <td>ac825818</td>\n",
       "      <td>sertecamericanexpress</td>\n",
       "      <td>2016-02</td>\n",
       "      <td>SinIndustria</td>\n",
       "      <td>0</td>\n",
       "    </tr>\n",
       "    <tr>\n",
       "      <th>10</th>\n",
       "      <td>180</td>\n",
       "      <td>ac825818</td>\n",
       "      <td>sertecamericanexpress</td>\n",
       "      <td>2016-03</td>\n",
       "      <td>SinIndustria</td>\n",
       "      <td>0</td>\n",
       "    </tr>\n",
       "    <tr>\n",
       "      <th>11</th>\n",
       "      <td>181</td>\n",
       "      <td>ac825818</td>\n",
       "      <td>sertecamericanexpress</td>\n",
       "      <td>2016-04</td>\n",
       "      <td>SinIndustria</td>\n",
       "      <td>0</td>\n",
       "    </tr>\n",
       "    <tr>\n",
       "      <th>12</th>\n",
       "      <td>182</td>\n",
       "      <td>ac825818</td>\n",
       "      <td>sertecamericanexpress</td>\n",
       "      <td>2016-05</td>\n",
       "      <td>SinIndustria</td>\n",
       "      <td>0</td>\n",
       "    </tr>\n",
       "  </tbody>\n",
       "</table>\n",
       "</div>"
      ],
      "text/plain": [
       "    index      uuid                company   period      industry  changes\n",
       "0     170  ac825818  sertecamericanexpress  2015-05  SinIndustria        0\n",
       "1     171  ac825818  sertecamericanexpress  2015-06  SinIndustria        0\n",
       "2     172  ac825818  sertecamericanexpress  2015-07  SinIndustria        0\n",
       "3     173  ac825818  sertecamericanexpress  2015-08  SinIndustria        0\n",
       "4     174  ac825818  sertecamericanexpress  2015-09  SinIndustria        0\n",
       "5     175  ac825818  sertecamericanexpress  2015-10  SinIndustria        0\n",
       "6     176  ac825818  sertecamericanexpress  2015-11  SinIndustria        0\n",
       "7     177  ac825818  sertecamericanexpress  2015-12  SinIndustria        0\n",
       "8     178  ac825818  sertecamericanexpress  2016-01  SinIndustria        0\n",
       "9     179  ac825818  sertecamericanexpress  2016-02  SinIndustria        0\n",
       "10    180  ac825818  sertecamericanexpress  2016-03  SinIndustria        0\n",
       "11    181  ac825818  sertecamericanexpress  2016-04  SinIndustria        0\n",
       "12    182  ac825818  sertecamericanexpress  2016-05  SinIndustria        0"
      ]
     },
     "execution_count": 302,
     "metadata": {},
     "output_type": "execute_result"
    }
   ],
   "source": [
    "P_period_df[P_period_df.uuid == 'ac825818'].iloc[:-50]"
   ]
  },
  {
   "cell_type": "code",
   "execution_count": 291,
   "metadata": {},
   "outputs": [],
   "source": [
    "P_period_df['changes'] = changes"
   ]
  },
  {
   "cell_type": "code",
   "execution_count": 292,
   "metadata": {},
   "outputs": [],
   "source": [
    "P_de_cambio = pd.pivot_table(P_period_df, index = 'period', columns = 'changes', values = 'uuid', aggfunc = 'count').fillna(0)"
   ]
  },
  {
   "cell_type": "code",
   "execution_count": 293,
   "metadata": {},
   "outputs": [],
   "source": [
    "P_de_cambio['total'] = P_de_cambio[0] + P_de_cambio[1]"
   ]
  },
  {
   "cell_type": "code",
   "execution_count": 294,
   "metadata": {},
   "outputs": [],
   "source": [
    "dist_de_cambio = P_de_cambio[1]/P_de_cambio['total']"
   ]
  },
  {
   "cell_type": "code",
   "execution_count": 295,
   "metadata": {},
   "outputs": [
    {
     "name": "stdout",
     "output_type": "stream",
     "text": [
      "Freedman–Diaconis number of bins: 21\n"
     ]
    }
   ],
   "source": [
    "#Creamos los bins\n",
    "#Usando la regla de Freedamn.Diaconis\n",
    "q25, q75 = np.percentile(dist_de_cambio, [25, 75])\n",
    "bin_width = 2 * (q75 - q25) * (len(dist_de_cambio) ** (-1/3))\n",
    "bins = round((dist_de_cambio.max() - dist_de_cambio.min()) / bin_width)\n",
    "print(\"Freedman–Diaconis number of bins:\", bins)"
   ]
  },
  {
   "cell_type": "code",
   "execution_count": 296,
   "metadata": {},
   "outputs": [
    {
     "data": {
      "image/png": "[encoded data removed]",
      "text/plain": [
       "<Figure size 432x288 with 1 Axes>"
      ]
     },
     "metadata": {
      "needs_background": "light"
     },
     "output_type": "display_data"
    }
   ],
   "source": [
    "import scipy.stats as st\n",
    "\n",
    "plt.hist(dist_de_cambio, density=1, bins=9, label=\"Data\")\n",
    "mn, mx = plt.xlim()\n",
    "plt.xlim(mn, mx)\n",
    "kde_xs = np.linspace(mn, mx, 300)\n",
    "kde = st.gaussian_kde(dist_de_cambio)\n",
    "plt.plot(kde_xs, kde.pdf(kde_xs), label=\"FDP\")\n",
    "plt.legend(loc=\"upper right\")\n",
    "plt.ylabel(\"Probabilidad\")\n",
    "plt.xlabel(\"% Cambio de empresa en un periodo,\")\n",
    "plt.title(\"FDP Cambio de Empresa\");"
   ]
  },
  {
   "cell_type": "code",
   "execution_count": null,
   "metadata": {},
   "outputs": [],
   "source": []
  },
  {
   "cell_type": "code",
   "execution_count": 283,
   "metadata": {},
   "outputs": [
    {
     "data": {
      "text/plain": [
       "0.059763388040595486"
      ]
     },
     "execution_count": 283,
     "metadata": {},
     "output_type": "execute_result"
    }
   ],
   "source": [
    "#Probabilidad de cambiarse \n",
    "dist_de_cambio.mean()"
   ]
  },
  {
   "cell_type": "code",
   "execution_count": 256,
   "metadata": {},
   "outputs": [],
   "source": [
    "#Seleccinamos todo lo mayor a 2010\n",
    "graph = DF_to_adjacency_matrix_month[DF_to_adjacency_matrix_month.period >= '2010-01']"
   ]
  },
  {
   "cell_type": "code",
   "execution_count": 257,
   "metadata": {},
   "outputs": [
    {
     "name": "stdout",
     "output_type": "stream",
     "text": [
      "Total personas 386\n",
      "Total compañias 848\n",
      "Total periodos 155\n"
     ]
    }
   ],
   "source": [
    "#Valores\n",
    "print(\"Total personas\", graph.uuid.nunique())\n",
    "print(\"Total compañias\", graph.company.nunique())\n",
    "print(\"Total periodos\", graph.period.nunique())"
   ]
  },
  {
   "cell_type": "code",
   "execution_count": 258,
   "metadata": {},
   "outputs": [],
   "source": [
    "#Creamos los nodos\n",
    "nodes = np.append(np.unique(graph.uuid),np.unique(graph.company) )"
   ]
  },
  {
   "cell_type": "code",
   "execution_count": 259,
   "metadata": {},
   "outputs": [],
   "source": [
    "columns = ['period','uuid','company']\n",
    "years = []\n",
    "graphs_list = []\n",
    "for period in np.sort(graph.period.unique()):\n",
    "    _temp = define_graph_period(period,nodes,graph,columns, period_colum = 'period')\n",
    "    _period = str(period)\n",
    "    years.append(period)\n",
    "    add = (_temp,_period)\n",
    "    graphs_list.append(add)"
   ]
  },
  {
   "cell_type": "code",
   "execution_count": 260,
   "metadata": {},
   "outputs": [],
   "source": [
    "companys = graph.company.unique()\n",
    "people = graph.uuid.unique()"
   ]
  },
  {
   "cell_type": "code",
   "execution_count": 261,
   "metadata": {},
   "outputs": [],
   "source": [
    "#Companys\n",
    "graphs_list_c_month = []\n",
    "for graph, year in graphs_list:\n",
    "    proyection_bipartite(graph, year, graphs_list_c_month,companys)"
   ]
  },
  {
   "cell_type": "code",
   "execution_count": 262,
   "metadata": {},
   "outputs": [],
   "source": [
    "#People\n",
    "graphs_list_p_month = []\n",
    "for graph, year in graphs_list:\n",
    "    proyection_bipartite(graph, year, graphs_list_p_month, people)"
   ]
  },
  {
   "cell_type": "code",
   "execution_count": 263,
   "metadata": {},
   "outputs": [],
   "source": [
    "#Evolucion de la <k> y <C>\n",
    "k_average_c_1_month  = [pd.DataFrame(nx.degree(value)).mean().values for value,key in graphs_list_c_month]\n",
    "k_average_p_1_month  = [pd.DataFrame(nx.degree(value)).mean().values for value,key in graphs_list_p_month]\n",
    "C_average_c_1_month  = [np.array(list(nx.clustering(value).values())).mean() for value,key in graphs_list_c_month]\n",
    "C_average_p_1_month  = [np.array(list(nx.clustering(value).values())).mean() for value,key in graphs_list_p_month]"
   ]
  },
  {
   "cell_type": "code",
   "execution_count": 264,
   "metadata": {},
   "outputs": [],
   "source": [
    "#Segundo Criterio\n",
    "for i in range(len(graphs_list)-1):\n",
    "    for edge in graphs_list[i][0].edges():\n",
    "        graphs_list[i+1][0].add_edge(*edge)"
   ]
  },
  {
   "cell_type": "code",
   "execution_count": 265,
   "metadata": {},
   "outputs": [],
   "source": [
    "#Companys\n",
    "graphs_list_c_2_month = []\n",
    "for graph, year in graphs_list:\n",
    "    proyection_bipartite(graph, year, graphs_list_c_2_month,companys)"
   ]
  },
  {
   "cell_type": "code",
   "execution_count": 266,
   "metadata": {},
   "outputs": [],
   "source": [
    "#People\n",
    "graphs_list_p_2_month = []\n",
    "for graph, year in graphs_list:\n",
    "    proyection_bipartite(graph, year, graphs_list_p_2_month, people)"
   ]
  },
  {
   "cell_type": "code",
   "execution_count": 267,
   "metadata": {},
   "outputs": [],
   "source": [
    "#Evolucion de la <k> y <C>\n",
    "k_average_c_2_month  = [pd.DataFrame(nx.degree(value)).mean().values for value,key in graphs_list_c_2_month]\n",
    "k_average_p_2_month  = [pd.DataFrame(nx.degree(value)).mean().values for value,key in graphs_list_p_2_month]\n",
    "C_average_c_2_month  = [np.array(list(nx.clustering(value).values())).mean() for value,key in graphs_list_c_2_month]\n",
    "C_average_p_2_month  = [np.array(list(nx.clustering(value).values())).mean() for value,key in graphs_list_p_2_month]"
   ]
  },
  {
   "cell_type": "markdown",
   "metadata": {},
   "source": [
    "# Graficas mensuales"
   ]
  },
  {
   "cell_type": "code",
   "execution_count": 273,
   "metadata": {
    "collapsed": true
   },
   "outputs": [
    {
     "data": {
      "text/plain": [
       "[]"
      ]
     },
     "execution_count": 273,
     "metadata": {},
     "output_type": "execute_result"
    },
    {
     "data": {
      "image/png": "[encoded data removed]",
      "text/plain": [
       "<Figure size 1440x1440 with 1 Axes>"
      ]
     },
     "metadata": {
      "needs_background": "light"
     },
     "output_type": "display_data"
    }
   ],
   "source": [
    "# K promedio compañias \n",
    "plt.figure(3,figsize=(20,20)) \n",
    "plt.plot(years, k_average_c_2_month, label = 'Criterio 2')\n",
    "plt.plot(years, k_average_c_1_month, label = 'Criterio 1')\n",
    "plt.xticks(rotation = 90)\n",
    "plt.legend()\n",
    "plt.plot()"
   ]
  },
  {
   "cell_type": "code",
   "execution_count": 270,
   "metadata": {
    "collapsed": true
   },
   "outputs": [
    {
     "data": {
      "image/png": "[encoded data removed]",
      "text/plain": [
       "<Figure size 1440x1440 with 1 Axes>"
      ]
     },
     "metadata": {
      "needs_background": "light"
     },
     "output_type": "display_data"
    }
   ],
   "source": [
    "# K promedio personas \n",
    "plt.figure(3,figsize=(20,20)) \n",
    "plt.plot(years, k_average_p_2_month, label = 'Criterio 2')\n",
    "plt.plot(years, k_average_p_1_month, label = 'Criterio 1')\n",
    "plt.legend()\n",
    "plt.xticks(rotation = 90)\n",
    "plt.show()"
   ]
  },
  {
   "cell_type": "code",
   "execution_count": 271,
   "metadata": {
    "collapsed": true
   },
   "outputs": [
    {
     "data": {
      "image/png": "[encoded data removed]",
      "text/plain": [
       "<Figure size 1440x1440 with 1 Axes>"
      ]
     },
     "metadata": {
      "needs_background": "light"
     },
     "output_type": "display_data"
    }
   ],
   "source": [
    "# C promedio personas \n",
    "plt.figure(3,figsize=(20,20)) \n",
    "plt.plot(years, C_average_p_2_month, label = 'Criterio 2')\n",
    "plt.plot(years, C_average_p_1_month, label = 'Criterio 1')\n",
    "plt.legend()\n",
    "plt.xticks(rotation = 90)\n",
    "plt.show()"
   ]
  },
  {
   "cell_type": "code",
   "execution_count": 272,
   "metadata": {
    "collapsed": true
   },
   "outputs": [
    {
     "data": {
      "text/plain": [
       "[]"
      ]
     },
     "execution_count": 272,
     "metadata": {},
     "output_type": "execute_result"
    },
    {
     "data": {
      "image/png": "[encoded data removed]",
      "text/plain": [
       "<Figure size 1440x1440 with 1 Axes>"
      ]
     },
     "metadata": {
      "needs_background": "light"
     },
     "output_type": "display_data"
    }
   ],
   "source": [
    "# C promedio empresas \n",
    "plt.figure(3,figsize=(20,20)) \n",
    "plt.plot(years, C_average_c_2_month, label = 'Criterio 2')\n",
    "plt.plot(years, C_average_c_1_month, label = 'Criterio 1')\n",
    "plt.legend()\n",
    "plt.plot()"
   ]
  },
  {
   "cell_type": "code",
   "execution_count": 294,
   "metadata": {},
   "outputs": [],
   "source": [
    "#Gigant component\n",
    "def gigant_componente(list_, size):\n",
    "    sizes = []\n",
    "    for element, date in list_:\n",
    "        Gcc = sorted(nx.connected_components(element), key=len, reverse=True)\n",
    "        G0 = review.subgraph(Gcc[0])\n",
    "        sizes.append(len(G0)/size)\n",
    "    return sizes"
   ]
  },
  {
   "cell_type": "code",
   "execution_count": 297,
   "metadata": {},
   "outputs": [],
   "source": [
    "#Componente gigante\n",
    "gc_people_month_1 = gigant_componente(graphs_list_p_month,386)\n",
    "gc_people_month_2= gigant_componente(graphs_list_p_2_month,386)"
   ]
  },
  {
   "cell_type": "code",
   "execution_count": 299,
   "metadata": {},
   "outputs": [
    {
     "data": {
      "text/plain": [
       "[]"
      ]
     },
     "execution_count": 299,
     "metadata": {},
     "output_type": "execute_result"
    },
    {
     "data": {
      "image/png": "[encoded data removed]",
      "text/plain": [
       "<Figure size 1440x1440 with 1 Axes>"
      ]
     },
     "metadata": {
      "needs_background": "light"
     },
     "output_type": "display_data"
    }
   ],
   "source": [
    "# Componente gigante empresas \n",
    "plt.figure(3,figsize=(20,20)) \n",
    "plt.plot(k_average_p_1_month, gc_people_month_1, label = 'Criterio 1')\n",
    "#plt.plot(k_average_p_1_month, gc_people_month_2, label = 'Criterio 1')\n",
    "plt.legend()\n",
    "plt.plot()"
   ]
  },
  {
   "cell_type": "code",
   "execution_count": 301,
   "metadata": {},
   "outputs": [
    {
     "data": {
      "text/plain": [
       "[]"
      ]
     },
     "execution_count": 301,
     "metadata": {},
     "output_type": "execute_result"
    },
    {
     "data": {
      "image/png": "[encoded data removed]",
      "text/plain": [
       "<Figure size 1440x1440 with 1 Axes>"
      ]
     },
     "metadata": {
      "needs_background": "light"
     },
     "output_type": "display_data"
    }
   ],
   "source": [
    "# Componente gigante empresas \n",
    "plt.figure(3,figsize=(20,20)) \n",
    "#plt.plot(k_average_p_1_month, gc_people_month_1, label = 'Criterio 2')\n",
    "plt.plot(k_average_p_2_month, gc_people_month_2, label = 'Criterio 2')\n",
    "plt.legend()\n",
    "plt.plot()"
   ]
  },
  {
   "cell_type": "code",
   "execution_count": null,
   "metadata": {},
   "outputs": [],
   "source": []
  },
  {
   "cell_type": "code",
   "execution_count": null,
   "metadata": {},
   "outputs": [],
   "source": []
  },
  {
   "cell_type": "code",
   "execution_count": null,
   "metadata": {},
   "outputs": [],
   "source": []
  },
  {
   "cell_type": "code",
   "execution_count": null,
   "metadata": {},
   "outputs": [],
   "source": []
  },
  {
   "cell_type": "code",
   "execution_count": null,
   "metadata": {},
   "outputs": [],
   "source": []
  },
  {
   "cell_type": "code",
   "execution_count": null,
   "metadata": {},
   "outputs": [],
   "source": []
  },
  {
   "cell_type": "code",
   "execution_count": null,
   "metadata": {},
   "outputs": [],
   "source": [
    "graphs_list_p_month"
   ]
  },
  {
   "cell_type": "code",
   "execution_count": 289,
   "metadata": {},
   "outputs": [
    {
     "data": {
      "text/plain": [
       "0.12694300518134716"
      ]
     },
     "execution_count": 289,
     "metadata": {},
     "output_type": "execute_result"
    }
   ],
   "source": [
    "len(Gcc)/386"
   ]
  },
  {
   "cell_type": "code",
   "execution_count": 282,
   "metadata": {},
   "outputs": [],
   "source": [
    "review = graphs_list_p_month[154][0]\n",
    "Gcc = sorted(nx.connected_components(review), key=len, reverse=True)\n",
    "G0 = review.subgraph(Gcc[0])"
   ]
  },
  {
   "cell_type": "code",
   "execution_count": null,
   "metadata": {},
   "outputs": [],
   "source": [
    "for i in range(len(graphs_list_p_month)):\n",
    "    print(i,\"    \", graphs_list_p_month[i][1])"
   ]
  },
  {
   "cell_type": "code",
   "execution_count": null,
   "metadata": {},
   "outputs": [],
   "source": []
  },
  {
   "cell_type": "markdown",
   "metadata": {},
   "source": [
    "# Verificacion de probabilidad"
   ]
  },
  {
   "cell_type": "code",
   "execution_count": 414,
   "metadata": {},
   "outputs": [
    {
     "name": "stdout",
     "output_type": "stream",
     "text": [
      "0.3260962584007855\n",
      "0.30116163799978374\n",
      "0.2897310607524877\n",
      "0.22647159631446906\n",
      "0.12136057582305455\n",
      "0.05051716252413307\n",
      "0.3272494023810208\n",
      "0.28870657847602316\n",
      "0.24523501028736738\n",
      "0.19509962651415338\n",
      "0.1009398643203032\n",
      "0.04002414648834035\n",
      "0.2685444035050914\n",
      "0.259717130338699\n",
      "0.23652084950698776\n",
      "0.16439216357603342\n",
      "0.08212700708207489\n",
      "0.029494227825709016\n",
      "0.178013582308665\n",
      "0.18739019867795384\n",
      "0.17111115349172318\n",
      "0.1256597341628831\n",
      "0.060619891653080266\n",
      "0.02021616666512569\n",
      "0.10397453496828912\n",
      "0.10494839456206362\n",
      "0.11007186123514995\n",
      "0.08658755364348454\n",
      "0.043133992030979056\n",
      "0.010344349674474665\n",
      "nan\n",
      "nan\n",
      "nan\n",
      "nan\n",
      "nan\n",
      "nan\n"
     ]
    }
   ],
   "source": [
    "for random_walk in glob.glob('./Visits_Rw/*.dat'):\n",
    "    #Leemos resultados de la simulacion\n",
    "    random_walk =  pd.read_csv(random_walk)\n",
    "    Rws = []\n",
    "    N_visiteds = []\n",
    "    ts = []\n",
    "    for Rw in random_walk.Rw.unique():\n",
    "        _aux = random_walk[random_walk.Rw == Rw].reset_index()\n",
    "        time = 0\n",
    "        for row in range(len(_aux.t)-1):\n",
    "            Rws.append(Rw)\n",
    "            if _aux.iloc[row + 1].N_visited != _aux.iloc[row].N_visited:\n",
    "                N_visiteds.append(_aux.iloc[row].N_visited)\n",
    "                ts.append(time)\n",
    "            else:\n",
    "                N_visiteds.append(_aux.iloc[row].N_visited)\n",
    "                ts.append(time) \n",
    "                time += 1\n",
    "    random_walk_df = pd.DataFrame({'Rw':Rws,'N_visited':N_visiteds,'t':ts})\n",
    "    P_period = random_walk_df.groupby(['Rw','t']).nunique()['N_visited'].reset_index()[['Rw','t','N_visited']]\n",
    "    cambiaron = P_period[P_period.N_visited >= 2].groupby('t').nunique()['Rw']\n",
    "    quedaron = P_period.groupby('t').nunique()['Rw']\n",
    "    dist_periodo = cambiaron/quedaron\n",
    "    #probabilidad promedio de cambiarse\n",
    "    print(dist_periodo.mean())"
   ]
  },
  {
   "cell_type": "markdown",
   "metadata": {},
   "source": [
    "# Homologacion de periodos y cambios de empresa"
   ]
  },
  {
   "cell_type": "code",
   "execution_count": null,
   "metadata": {},
   "outputs": [],
   "source": [
    "#Creamos funcion que homologa periodos"
   ]
  },
  {
   "cell_type": "code",
   "execution_count": null,
   "metadata": {},
   "outputs": [],
   "source": [
    "#Leemos resultados de la simulacion\n",
    "random_walk =  pd.read_csv('./Visits_Rw/Rw_0.950000_0.950000.dat')"
   ]
  },
  {
   "cell_type": "code",
   "execution_count": null,
   "metadata": {},
   "outputs": [],
   "source": [
    "random_walk =  pd.read_csv(random_walk)\n",
    "Rws = []\n",
    "N_visiteds = []\n",
    "ts = []\n",
    "    for Rw in random_walk.Rw.unique():\n",
    "        _aux = random_walk[random_walk.Rw == Rw].reset_index()\n",
    "        time = 0\n",
    "        for row in range(len(_aux.t)-1):\n",
    "            Rws.append(Rw)\n",
    "            if _aux.iloc[row + 1].N_visited != _aux.iloc[row].N_visited:\n",
    "                N_visiteds.append(_aux.iloc[row].N_visited)\n",
    "                ts.append(time)\n",
    "            else:\n",
    "                N_visiteds.append(_aux.iloc[row].N_visited)\n",
    "                ts.append(time) \n",
    "                time += 1\n",
    "                random_walk_df = pd.DataFrame({'Rw':Rws,'N_visited':N_visiteds,'t':ts})"
   ]
  },
  {
   "cell_type": "markdown",
   "metadata": {},
   "source": [
    "# Random Walk"
   ]
  },
  {
   "cell_type": "code",
   "execution_count": 254,
   "metadata": {},
   "outputs": [],
   "source": [
    "#Leemos el grafo\n",
    "graphs_list_Rw, companys, people, years, df = random_walk_list('./Visits_Rw/Prueba.dat')"
   ]
  },
  {
   "cell_type": "code",
   "execution_count": 257,
   "metadata": {},
   "outputs": [],
   "source": [
    "#Companys\n",
    "graphs_list_c_month_Rw = bipartite_list(graphs_list_Rw, companys)"
   ]
  },
  {
   "cell_type": "code",
   "execution_count": 258,
   "metadata": {},
   "outputs": [],
   "source": [
    "#People\n",
    "graphs_list_p_month_Rw = bipartite_list(graphs_list_Rw, people)"
   ]
  },
  {
   "cell_type": "code",
   "execution_count": 242,
   "metadata": {},
   "outputs": [],
   "source": [
    "#K average\n",
    "k_average_c_1_month_Rw = k_average(graphs_list_c_month_Rw)\n",
    "k_average_p_1_month_Rw = k_average(graphs_list_p_month_Rw)"
   ]
  },
  {
   "cell_type": "code",
   "execution_count": 243,
   "metadata": {},
   "outputs": [],
   "source": [
    "#C average\n",
    "C_average_c_1_month_Rw  = C_average(graphs_list_c_month_Rw)\n",
    "C_average_p_1_month_Rw  = C_average(graphs_list_p_month_Rw)"
   ]
  },
  {
   "cell_type": "code",
   "execution_count": 244,
   "metadata": {},
   "outputs": [],
   "source": [
    "#Segundo Criterio\n",
    "graphs_list_Rw_2 = second_criteria(graphs_list_Rw)"
   ]
  },
  {
   "cell_type": "code",
   "execution_count": 245,
   "metadata": {},
   "outputs": [],
   "source": [
    "#Companys\n",
    "graphs_list_c_2_month_Rw = bipartite_list(graphs_list_Rw_2, companys)"
   ]
  },
  {
   "cell_type": "code",
   "execution_count": 246,
   "metadata": {},
   "outputs": [],
   "source": [
    "#People\n",
    "graphs_list_p_2_month_Rw = bipartite_list(graphs_list_Rw_2, people)"
   ]
  },
  {
   "cell_type": "code",
   "execution_count": 247,
   "metadata": {},
   "outputs": [],
   "source": [
    "#K average\n",
    "k_average_c_2_month_Rw = k_average(graphs_list_c_2_month_Rw)\n",
    "k_average_p_2_month_Rw = k_average(graphs_list_p_2_month_Rw)\n",
    "#C average\n",
    "C_average_c_2_month_Rw  = C_average(graphs_list_c_2_month_Rw)\n",
    "C_average_p_2_month_Rw  = C_average(graphs_list_p_2_month_Rw)"
   ]
  },
  {
   "cell_type": "markdown",
   "metadata": {},
   "source": [
    "# Graficas RW"
   ]
  },
  {
   "cell_type": "markdown",
   "metadata": {},
   "source": [
    "pd.DataFrame({'<k>_p':k_average_p_2_month_Rw,\n",
    "              '<K>_c':k_average_c_2_month_Rw,\n",
    "              '<c>_p':C_average_p_2_month_Rw,\n",
    "              '<c>_c':C_average_c_2_month_Rw}).to_csv('mean_coeficients_first_probe.txt')"
   ]
  },
  {
   "cell_type": "code",
   "execution_count": 259,
   "metadata": {},
   "outputs": [
    {
     "data": {
      "text/plain": [
       "[(<networkx.classes.graph.Graph at 0x2722641cac8>, '0'),\n",
       " (<networkx.classes.graph.Graph at 0x27226f7fb48>, '1'),\n",
       " (<networkx.classes.graph.Graph at 0x2724e5ad848>, '2'),\n",
       " (<networkx.classes.graph.Graph at 0x2723c2667c8>, '3'),\n",
       " (<networkx.classes.graph.Graph at 0x2722c30bf48>, '4'),\n",
       " (<networkx.classes.graph.Graph at 0x2724e5ad188>, '5'),\n",
       " (<networkx.classes.graph.Graph at 0x2724e5adb48>, '6'),\n",
       " (<networkx.classes.graph.Graph at 0x2724e5adfc8>, '7'),\n",
       " (<networkx.classes.graph.Graph at 0x2724e5ad348>, '8'),\n",
       " (<networkx.classes.graph.Graph at 0x2724e5ad508>, '9'),\n",
       " (<networkx.classes.graph.Graph at 0x2724e5ad708>, '10'),\n",
       " (<networkx.classes.graph.Graph at 0x2724e5ad088>, '11'),\n",
       " (<networkx.classes.graph.Graph at 0x2724e5ad788>, '12'),\n",
       " (<networkx.classes.graph.Graph at 0x27226f7d348>, '13'),\n",
       " (<networkx.classes.graph.Graph at 0x27226f7d3c8>, '14'),\n",
       " (<networkx.classes.graph.Graph at 0x2722a226908>, '15'),\n",
       " (<networkx.classes.graph.Graph at 0x2722a226bc8>, '16'),\n",
       " (<networkx.classes.graph.Graph at 0x2722a226e48>, '17'),\n",
       " (<networkx.classes.graph.Graph at 0x272249bc608>, '18'),\n",
       " (<networkx.classes.graph.Graph at 0x272249bc848>, '19'),\n",
       " (<networkx.classes.graph.Graph at 0x272249bc948>, '20'),\n",
       " (<networkx.classes.graph.Graph at 0x2722641cec8>, '21'),\n",
       " (<networkx.classes.graph.Graph at 0x2722641ce08>, '22'),\n",
       " (<networkx.classes.graph.Graph at 0x2722641cd08>, '23'),\n",
       " (<networkx.classes.graph.Graph at 0x2722641c788>, '24'),\n",
       " (<networkx.classes.graph.Graph at 0x2722641c088>, '25'),\n",
       " (<networkx.classes.graph.Graph at 0x2722641c488>, '26'),\n",
       " (<networkx.classes.graph.Graph at 0x2722641cb48>, '27'),\n",
       " (<networkx.classes.graph.Graph at 0x2722641ca88>, '28'),\n",
       " (<networkx.classes.graph.Graph at 0x2722641c048>, '29'),\n",
       " (<networkx.classes.graph.Graph at 0x27225ff7408>, '30'),\n",
       " (<networkx.classes.graph.Graph at 0x2723df42208>, '31'),\n",
       " (<networkx.classes.graph.Graph at 0x27227fb08c8>, '32'),\n",
       " (<networkx.classes.graph.Graph at 0x27227fb0048>, '33'),\n",
       " (<networkx.classes.graph.Graph at 0x27227fb0b48>, '34'),\n",
       " (<networkx.classes.graph.Graph at 0x272253a3e88>, '35'),\n",
       " (<networkx.classes.graph.Graph at 0x272253a3908>, '36'),\n",
       " (<networkx.classes.graph.Graph at 0x27227fb2b88>, '37'),\n",
       " (<networkx.classes.graph.Graph at 0x27227fb2e08>, '38'),\n",
       " (<networkx.classes.graph.Graph at 0x27227fb2748>, '39'),\n",
       " (<networkx.classes.graph.Graph at 0x272253923c8>, '40'),\n",
       " (<networkx.classes.graph.Graph at 0x27225392788>, '41'),\n",
       " (<networkx.classes.graph.Graph at 0x27225392488>, '42'),\n",
       " (<networkx.classes.graph.Graph at 0x27225392b08>, '43'),\n",
       " (<networkx.classes.graph.Graph at 0x27225392688>, '44'),\n",
       " (<networkx.classes.graph.Graph at 0x27225392388>, '45'),\n",
       " (<networkx.classes.graph.Graph at 0x27225392a08>, '46'),\n",
       " (<networkx.classes.graph.Graph at 0x27225392848>, '47'),\n",
       " (<networkx.classes.graph.Graph at 0x27225392bc8>, '48'),\n",
       " (<networkx.classes.graph.Graph at 0x27225392608>, '49'),\n",
       " (<networkx.classes.graph.Graph at 0x27225392c88>, '50'),\n",
       " (<networkx.classes.graph.Graph at 0x27225392a48>, '51'),\n",
       " (<networkx.classes.graph.Graph at 0x27225392d08>, '52'),\n",
       " (<networkx.classes.graph.Graph at 0x2722bc2b608>, '53'),\n",
       " (<networkx.classes.graph.Graph at 0x2722bc2b588>, '54'),\n",
       " (<networkx.classes.graph.Graph at 0x2722bc2b5c8>, '55'),\n",
       " (<networkx.classes.graph.Graph at 0x2722bc2b088>, '56'),\n",
       " (<networkx.classes.graph.Graph at 0x2722bc2b6c8>, '57'),\n",
       " (<networkx.classes.graph.Graph at 0x2722bc2b3c8>, '58'),\n",
       " (<networkx.classes.graph.Graph at 0x2722bc2b388>, '59'),\n",
       " (<networkx.classes.graph.Graph at 0x2722bc2b048>, '60'),\n",
       " (<networkx.classes.graph.Graph at 0x2722bc2b708>, '61'),\n",
       " (<networkx.classes.graph.Graph at 0x2722bc2b488>, '62'),\n",
       " (<networkx.classes.graph.Graph at 0x2722bc2b1c8>, '63'),\n",
       " (<networkx.classes.graph.Graph at 0x2722bc2b4c8>, '64'),\n",
       " (<networkx.classes.graph.Graph at 0x2722bc2b648>, '65'),\n",
       " (<networkx.classes.graph.Graph at 0x2722bc2ba88>, '66'),\n",
       " (<networkx.classes.graph.Graph at 0x2722bc2b248>, '67'),\n",
       " (<networkx.classes.graph.Graph at 0x2722bc2b308>, '68'),\n",
       " (<networkx.classes.graph.Graph at 0x2722bc2b8c8>, '69'),\n",
       " (<networkx.classes.graph.Graph at 0x2722bc2b748>, '70'),\n",
       " (<networkx.classes.graph.Graph at 0x2722bc2bac8>, '71'),\n",
       " (<networkx.classes.graph.Graph at 0x2722bc2b848>, '72'),\n",
       " (<networkx.classes.graph.Graph at 0x2722bc2b2c8>, '73'),\n",
       " (<networkx.classes.graph.Graph at 0x2722bc2b548>, '74'),\n",
       " (<networkx.classes.graph.Graph at 0x2722bc2bb48>, '75'),\n",
       " (<networkx.classes.graph.Graph at 0x2722bc2bec8>, '76'),\n",
       " (<networkx.classes.graph.Graph at 0x2722bc2b888>, '77'),\n",
       " (<networkx.classes.graph.Graph at 0x2722bc2b348>, '78'),\n",
       " (<networkx.classes.graph.Graph at 0x2722bc2ba48>, '79'),\n",
       " (<networkx.classes.graph.Graph at 0x2722bc2b908>, '80'),\n",
       " (<networkx.classes.graph.Graph at 0x2722bc2bbc8>, '81'),\n",
       " (<networkx.classes.graph.Graph at 0x2722bc2b988>, '82'),\n",
       " (<networkx.classes.graph.Graph at 0x2722bc2bf08>, '83'),\n",
       " (<networkx.classes.graph.Graph at 0x2722bc2bc88>, '84'),\n",
       " (<networkx.classes.graph.Graph at 0x2722bc2be08>, '85'),\n",
       " (<networkx.classes.graph.Graph at 0x2722bc2be48>, '86'),\n",
       " (<networkx.classes.graph.Graph at 0x2722bc2bcc8>, '87'),\n",
       " (<networkx.classes.graph.Graph at 0x2722bc2b7c8>, '88'),\n",
       " (<networkx.classes.graph.Graph at 0x2722bc2b108>, '89'),\n",
       " (<networkx.classes.graph.Graph at 0x2722bc2b788>, '90'),\n",
       " (<networkx.classes.graph.Graph at 0x2722bc2bd48>, '91'),\n",
       " (<networkx.classes.graph.Graph at 0x2722bc2b9c8>, '92'),\n",
       " (<networkx.classes.graph.Graph at 0x2722bc2ba08>, '93'),\n",
       " (<networkx.classes.graph.Graph at 0x2722bc2bdc8>, '94'),\n",
       " (<networkx.classes.graph.Graph at 0x2722bc2b408>, '95'),\n",
       " (<networkx.classes.graph.Graph at 0x2722bc2bb08>, '96'),\n",
       " (<networkx.classes.graph.Graph at 0x2722bc2bd88>, '97'),\n",
       " (<networkx.classes.graph.Graph at 0x2722bc2b808>, '98'),\n",
       " (<networkx.classes.graph.Graph at 0x2722bc2bfc8>, '99'),\n",
       " (<networkx.classes.graph.Graph at 0x2722bc2bf88>, '100'),\n",
       " (<networkx.classes.graph.Graph at 0x2722bc2bc08>, '101'),\n",
       " (<networkx.classes.graph.Graph at 0x2722bc2bc48>, '102'),\n",
       " (<networkx.classes.graph.Graph at 0x2722bc2bd08>, '103'),\n",
       " (<networkx.classes.graph.Graph at 0x2722bc2b448>, '104'),\n",
       " (<networkx.classes.graph.Graph at 0x2722bc2b188>, '105'),\n",
       " (<networkx.classes.graph.Graph at 0x2722bc2b0c8>, '106'),\n",
       " (<networkx.classes.graph.Graph at 0x272255fedc8>, '107'),\n",
       " (<networkx.classes.graph.Graph at 0x272255fe308>, '108'),\n",
       " (<networkx.classes.graph.Graph at 0x272255fea08>, '109'),\n",
       " (<networkx.classes.graph.Graph at 0x272255fe748>, '110'),\n",
       " (<networkx.classes.graph.Graph at 0x2722bb81488>, '111'),\n",
       " (<networkx.classes.graph.Graph at 0x2723c33fd08>, '112'),\n",
       " (<networkx.classes.graph.Graph at 0x2722a020e48>, '113'),\n",
       " (<networkx.classes.graph.Graph at 0x2722b36cf48>, '114'),\n",
       " (<networkx.classes.graph.Graph at 0x272426b74c8>, '115'),\n",
       " (<networkx.classes.graph.Graph at 0x272455e6f08>, '116'),\n",
       " (<networkx.classes.graph.Graph at 0x272455e6848>, '117'),\n",
       " (<networkx.classes.graph.Graph at 0x27226f70288>, '118'),\n",
       " (<networkx.classes.graph.Graph at 0x27226f70948>, '119'),\n",
       " (<networkx.classes.graph.Graph at 0x27226f70e88>, '120'),\n",
       " (<networkx.classes.graph.Graph at 0x27226f70648>, '121'),\n",
       " (<networkx.classes.graph.Graph at 0x27226f709c8>, '122'),\n",
       " (<networkx.classes.graph.Graph at 0x27226f706c8>, '123'),\n",
       " (<networkx.classes.graph.Graph at 0x27226f70d08>, '124'),\n",
       " (<networkx.classes.graph.Graph at 0x27226f70488>, '125'),\n",
       " (<networkx.classes.graph.Graph at 0x27226f70208>, '126'),\n",
       " (<networkx.classes.graph.Graph at 0x272266ac908>, '127'),\n",
       " (<networkx.classes.graph.Graph at 0x272266ac388>, '128'),\n",
       " (<networkx.classes.graph.Graph at 0x272266ac408>, '129'),\n",
       " (<networkx.classes.graph.Graph at 0x272266ac3c8>, '130'),\n",
       " (<networkx.classes.graph.Graph at 0x272266acc08>, '131'),\n",
       " (<networkx.classes.graph.Graph at 0x272266ac6c8>, '132'),\n",
       " (<networkx.classes.graph.Graph at 0x272266ac448>, '133'),\n",
       " (<networkx.classes.graph.Graph at 0x272266ac808>, '134'),\n",
       " (<networkx.classes.graph.Graph at 0x272266ac488>, '135'),\n",
       " (<networkx.classes.graph.Graph at 0x272266ac548>, '136'),\n",
       " (<networkx.classes.graph.Graph at 0x272266ac4c8>, '137'),\n",
       " (<networkx.classes.graph.Graph at 0x272266ac5c8>, '138'),\n",
       " (<networkx.classes.graph.Graph at 0x272266ac508>, '139'),\n",
       " (<networkx.classes.graph.Graph at 0x272266ac648>, '140'),\n",
       " (<networkx.classes.graph.Graph at 0x272266ac608>, '141'),\n",
       " (<networkx.classes.graph.Graph at 0x272266ac708>, '142'),\n",
       " (<networkx.classes.graph.Graph at 0x272266ac788>, '143'),\n",
       " (<networkx.classes.graph.Graph at 0x272266ac848>, '144'),\n",
       " (<networkx.classes.graph.Graph at 0x272266acb08>, '145'),\n",
       " (<networkx.classes.graph.Graph at 0x272266acf48>, '146'),\n",
       " (<networkx.classes.graph.Graph at 0x272266ace48>, '147'),\n",
       " (<networkx.classes.graph.Graph at 0x272266accc8>, '148'),\n",
       " (<networkx.classes.graph.Graph at 0x272266acec8>, '149'),\n",
       " (<networkx.classes.graph.Graph at 0x272266acfc8>, '150'),\n",
       " (<networkx.classes.graph.Graph at 0x272266acbc8>, '151'),\n",
       " (<networkx.classes.graph.Graph at 0x2722538d548>, '152'),\n",
       " (<networkx.classes.graph.Graph at 0x2722538de08>, '153'),\n",
       " (<networkx.classes.graph.Graph at 0x2722538d688>, '154'),\n",
       " (<networkx.classes.graph.Graph at 0x2722538d708>, '155')]"
      ]
     },
     "execution_count": 259,
     "metadata": {},
     "output_type": "execute_result"
    }
   ],
   "source": [
    "graphs_list_p_month_Rw"
   ]
  },
  {
   "cell_type": "code",
   "execution_count": 277,
   "metadata": {},
   "outputs": [],
   "source": [
    "review = graphs_list_p_month_Rw[155][0]\n",
    "Gcc = sorted(nx.connected_components(review), key=len, reverse=True)\n",
    "G0 = review.subgraph(Gcc[0])"
   ]
  },
  {
   "cell_type": "code",
   "execution_count": 278,
   "metadata": {},
   "outputs": [
    {
     "data": {
      "image/png": "[encoded data removed]",
      "text/plain": [
       "<Figure size 432x288 with 1 Axes>"
      ]
     },
     "metadata": {},
     "output_type": "display_data"
    }
   ],
   "source": [
    "nx.draw(G0, with_labels = True)"
   ]
  },
  {
   "cell_type": "code",
   "execution_count": 286,
   "metadata": {},
   "outputs": [
    {
     "data": {
      "text/html": [
       "<div>\n",
       "<style scoped>\n",
       "    .dataframe tbody tr th:only-of-type {\n",
       "        vertical-align: middle;\n",
       "    }\n",
       "\n",
       "    .dataframe tbody tr th {\n",
       "        vertical-align: top;\n",
       "    }\n",
       "\n",
       "    .dataframe thead th {\n",
       "        text-align: right;\n",
       "    }\n",
       "</style>\n",
       "<table border=\"1\" class=\"dataframe\">\n",
       "  <thead>\n",
       "    <tr style=\"text-align: right;\">\n",
       "      <th></th>\n",
       "      <th>Rw</th>\n",
       "      <th>N_visited</th>\n",
       "      <th>t</th>\n",
       "    </tr>\n",
       "  </thead>\n",
       "  <tbody>\n",
       "    <tr>\n",
       "      <th>15443</th>\n",
       "      <td>aid</td>\n",
       "      <td>denim</td>\n",
       "      <td>155</td>\n",
       "    </tr>\n",
       "    <tr>\n",
       "      <th>24959</th>\n",
       "      <td>perfection</td>\n",
       "      <td>denim</td>\n",
       "      <td>155</td>\n",
       "    </tr>\n",
       "    <tr>\n",
       "      <th>31199</th>\n",
       "      <td>sari</td>\n",
       "      <td>denim</td>\n",
       "      <td>155</td>\n",
       "    </tr>\n",
       "    <tr>\n",
       "      <th>54131</th>\n",
       "      <td>abdomen</td>\n",
       "      <td>denim</td>\n",
       "      <td>155</td>\n",
       "    </tr>\n",
       "    <tr>\n",
       "      <th>56003</th>\n",
       "      <td>silo</td>\n",
       "      <td>denim</td>\n",
       "      <td>155</td>\n",
       "    </tr>\n",
       "    <tr>\n",
       "      <th>56627</th>\n",
       "      <td>football</td>\n",
       "      <td>denim</td>\n",
       "      <td>155</td>\n",
       "    </tr>\n",
       "  </tbody>\n",
       "</table>\n",
       "</div>"
      ],
      "text/plain": [
       "               Rw N_visited    t\n",
       "15443         aid     denim  155\n",
       "24959  perfection     denim  155\n",
       "31199        sari     denim  155\n",
       "54131     abdomen     denim  155\n",
       "56003        silo     denim  155\n",
       "56627    football     denim  155"
      ]
     },
     "execution_count": 286,
     "metadata": {},
     "output_type": "execute_result"
    }
   ],
   "source": [
    "df[(df.N_visited == \"denim\") & (df.t == 155)]"
   ]
  },
  {
   "cell_type": "code",
   "execution_count": 285,
   "metadata": {},
   "outputs": [
    {
     "data": {
      "text/html": [
       "<div>\n",
       "<style scoped>\n",
       "    .dataframe tbody tr th:only-of-type {\n",
       "        vertical-align: middle;\n",
       "    }\n",
       "\n",
       "    .dataframe tbody tr th {\n",
       "        vertical-align: top;\n",
       "    }\n",
       "\n",
       "    .dataframe thead th {\n",
       "        text-align: right;\n",
       "    }\n",
       "</style>\n",
       "<table border=\"1\" class=\"dataframe\">\n",
       "  <thead>\n",
       "    <tr style=\"text-align: right;\">\n",
       "      <th></th>\n",
       "      <th>Rw</th>\n",
       "      <th>N_visited</th>\n",
       "      <th>t</th>\n",
       "    </tr>\n",
       "  </thead>\n",
       "  <tbody>\n",
       "    <tr>\n",
       "      <th>54131</th>\n",
       "      <td>abdomen</td>\n",
       "      <td>denim</td>\n",
       "      <td>155</td>\n",
       "    </tr>\n",
       "  </tbody>\n",
       "</table>\n",
       "</div>"
      ],
      "text/plain": [
       "            Rw N_visited    t\n",
       "54131  abdomen     denim  155"
      ]
     },
     "execution_count": 285,
     "metadata": {},
     "output_type": "execute_result"
    }
   ],
   "source": [
    "df[(df.Rw == \"abdomen\") & (df.t == 155)]"
   ]
  },
  {
   "cell_type": "code",
   "execution_count": null,
   "metadata": {},
   "outputs": [],
   "source": []
  },
  {
   "cell_type": "code",
   "execution_count": null,
   "metadata": {},
   "outputs": [],
   "source": [
    "#Borra antes de aqui"
   ]
  },
  {
   "cell_type": "code",
   "execution_count": 279,
   "metadata": {},
   "outputs": [
    {
     "data": {
      "text/plain": [
       "Text(0, 0.5, '$\\\\langle K \\\\rangle$')"
      ]
     },
     "execution_count": 279,
     "metadata": {},
     "output_type": "execute_result"
    },
    {
     "data": {
      "image/png": "[encoded data removed]",
      "text/plain": [
       "<Figure size 720x720 with 1 Axes>"
      ]
     },
     "metadata": {
      "needs_background": "light"
     },
     "output_type": "display_data"
    }
   ],
   "source": [
    "# K promedio compañias \n",
    "plt.figure(3,figsize=(10,10)) \n",
    "plt.plot(years, k_average_c_2_month_Rw, label = 'Criterio 2')\n",
    "plt.plot(years, k_average_c_1_month_Rw, label = 'Criterio 1')\n",
    "plt.legend()\n",
    "plt.plot()\n",
    "plt.xlabel(r'$t$')\n",
    "plt.ylabel(r'$\\langle K \\rangle$')"
   ]
  },
  {
   "cell_type": "code",
   "execution_count": 249,
   "metadata": {},
   "outputs": [
    {
     "data": {
      "image/png": "[encoded data removed]",
      "text/plain": [
       "<Figure size 720x720 with 1 Axes>"
      ]
     },
     "metadata": {
      "needs_background": "light"
     },
     "output_type": "display_data"
    }
   ],
   "source": [
    "# K promedio personas \n",
    "plt.figure(3,figsize=(10,10)) \n",
    "plt.plot(years, k_average_p_2_month_Rw, label = 'Criterio 2')\n",
    "plt.plot(years, k_average_p_1_month_Rw, label = 'Criterio 1')\n",
    "plt.legend()\n",
    "plt.xticks(rotation = 90)\n",
    "plt.show()"
   ]
  },
  {
   "cell_type": "code",
   "execution_count": 250,
   "metadata": {},
   "outputs": [
    {
     "data": {
      "image/png": "[encoded data removed]",
      "text/plain": [
       "<Figure size 720x720 with 1 Axes>"
      ]
     },
     "metadata": {
      "needs_background": "light"
     },
     "output_type": "display_data"
    }
   ],
   "source": [
    "# C promedio personas \n",
    "plt.figure(3,figsize=(10,10)) \n",
    "plt.plot(years, C_average_p_2_month_Rw, label = 'Criterio 2')\n",
    "plt.plot(years, C_average_p_1_month_Rw, label = 'Criterio 1')\n",
    "plt.legend()\n",
    "plt.xticks(rotation = 90)\n",
    "plt.show()"
   ]
  },
  {
   "cell_type": "code",
   "execution_count": 251,
   "metadata": {},
   "outputs": [
    {
     "data": {
      "text/plain": [
       "[]"
      ]
     },
     "execution_count": 251,
     "metadata": {},
     "output_type": "execute_result"
    },
    {
     "data": {
      "image/png": "[encoded data removed]",
      "text/plain": [
       "<Figure size 720x720 with 1 Axes>"
      ]
     },
     "metadata": {
      "needs_background": "light"
     },
     "output_type": "display_data"
    }
   ],
   "source": [
    "# C promedio empresas \n",
    "plt.figure(3,figsize=(10,10)) \n",
    "plt.plot(years, C_average_c_2_month_Rw, label = 'Criterio 2')\n",
    "plt.plot(years, C_average_c_1_month_Rw, label = 'Criterio 1')\n",
    "plt.legend()\n",
    "plt.plot()"
   ]
  },
  {
   "cell_type": "markdown",
   "metadata": {},
   "source": [
    "# Promedios Rw"
   ]
  },
  {
   "cell_type": "code",
   "execution_count": 522,
   "metadata": {},
   "outputs": [],
   "source": [
    "graphs_list_Rw_list = []\n",
    "companys_list = []\n",
    "people_list = []\n",
    "years_list = []\n",
    "for element in glob.glob('.\\Visits_Rw\\*.dat'):\n",
    "    #Leemos el grafo\n",
    "    graphs_list_Rw, companys, people, years = random_walk_list(element)\n",
    "    graphs_list_Rw_list.append(graphs_list_Rw)\n",
    "    companys_list.append(companys)\n",
    "    people_list.append(people)\n",
    "    years_list.append(years)"
   ]
  },
  {
   "cell_type": "code",
   "execution_count": null,
   "metadata": {},
   "outputs": [],
   "source": [
    "#People\n",
    "graphs_list_p_month_Rw_list = []\n",
    "for i in range(len(graphs_list_Rw_list)):\n",
    "    graphs_list_p_month_Rw_list.append(bipartite_list(graphs_list_Rw_list[i], people_list[i]))"
   ]
  },
  {
   "cell_type": "code",
   "execution_count": null,
   "metadata": {},
   "outputs": [],
   "source": [
    "#C Average\n",
    "C_average_p_1_month_Rw_list = []\n",
    "for i in range(len(graphs_list_p_month_Rw_list)):\n",
    "    C_average_p_1_month_Rw_list.append(C_average(graphs_list_p_month_Rw_list[i]))"
   ]
  },
  {
   "cell_type": "code",
   "execution_count": null,
   "metadata": {},
   "outputs": [],
   "source": [
    "#Segundo Criterio\n",
    "graphs_list_Rw_list_2 = []\n",
    "for i in range(len(graphs_list_Rw_list)):\n",
    "    graphs_list_Rw_list_2.append(second_criteria(graphs_list_Rw_list[i]))"
   ]
  },
  {
   "cell_type": "code",
   "execution_count": null,
   "metadata": {},
   "outputs": [],
   "source": [
    "#People\n",
    "graphs_list_p_2_month_Rw_list = []\n",
    "for i in range(len(graphs_list_Rw_list_2)):\n",
    "    graphs_list_p_2_month_Rw_list.append(bipartite_list(graphs_list_Rw_list_2[i], people_list[i]))"
   ]
  },
  {
   "cell_type": "code",
   "execution_count": null,
   "metadata": {},
   "outputs": [],
   "source": [
    "#C Average\n",
    "C_average_p_2_month_Rw_list = []\n",
    "for i in range(len(graphs_list_p_2_month_Rw_list)):\n",
    "    C_average_p_2_month_Rw_list.append(C_average(graphs_list_p_2_month_Rw_list[i]))"
   ]
  },
  {
   "cell_type": "code",
   "execution_count": null,
   "metadata": {},
   "outputs": [],
   "source": []
  },
  {
   "cell_type": "code",
   "execution_count": null,
   "metadata": {},
   "outputs": [],
   "source": []
  }
 ],
 "metadata": {
  "kernelspec": {
   "display_name": "Python 3",
   "language": "python",
   "name": "python3"
  },
  "language_info": {
   "codemirror_mode": {
    "name": "ipython",
    "version": 3
   },
   "file_extension": ".py",
   "mimetype": "text/x-python",
   "name": "python",
   "nbconvert_exporter": "python",
   "pygments_lexer": "ipython3",
   "version": "3.7.6"
  }
 },
 "nbformat": 4,
 "nbformat_minor": 4
}
